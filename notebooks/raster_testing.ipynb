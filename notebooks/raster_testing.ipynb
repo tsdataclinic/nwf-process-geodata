{
 "cells": [
  {
   "cell_type": "code",
   "execution_count": null,
   "metadata": {},
   "outputs": [],
   "source": [
    "import pandas as pd\n",
    "import geopandas as gpd\n",
    "import io\n",
    "import json\n",
    "import os\n",
    "\n",
    "os.chdir(\"/Users/canyonfoot/Documents/python_proj/nwf-process-geodata\")\n",
    "metadata_df = pd.read_csv(\"output_metadata.csv\")"
   ]
  },
  {
   "cell_type": "code",
   "execution_count": null,
   "metadata": {},
   "outputs": [],
   "source": [
    "from src.process import Processor\n",
    "from src.common import TARGET_CRS, get_s3_client, BUCKET_NAME"
   ]
  },
  {
   "cell_type": "code",
   "execution_count": null,
   "metadata": {},
   "outputs": [],
   "source": [
    "from src.process_LOCA import *"
   ]
  },
  {
   "cell_type": "code",
   "execution_count": null,
   "metadata": {},
   "outputs": [],
   "source": [
    "Processor()._process_raw_dataset(\"data/raw/climate_change_indicators/drought/loca_dry_days_forecast/loca_dry_days_forecast.tar.gz\")"
   ]
  },
  {
   "cell_type": "code",
   "execution_count": null,
   "metadata": {},
   "outputs": [],
   "source": [
    "\"data/raw/climate_change_indicators/drought/loca_dry_days_forecast/loca_dry_days_forecast.tar.gz\"\n",
    "\"data/raw/climate_change_indicators/extreme_heat/loca_extreme_temperature_forecast/loca_extreme_temperature_forecast.tar.gz\""
   ]
  },
  {
   "cell_type": "code",
   "execution_count": null,
   "metadata": {},
   "outputs": [],
   "source": [
    "s3 = get_s3_client()\n",
    "bucket_name = BUCKET_NAME\n",
    "tar_gz_key = \"data/raw/climate_change_indicators/flooding/loca_precipitation/loca_precipitation.tar.gz\"\n",
    "full_path = \"output_raster.tif\"\n",
    "trimmed_path = \"trimmed_raster.tif\"\n",
    "\n",
    "main_process_LOCA(s3, BUCKET_NAME, tar_gz_key, full_path, trimmed_path)"
   ]
  },
  {
   "cell_type": "code",
   "execution_count": null,
   "metadata": {},
   "outputs": [],
   "source": [
    "df = pd.read_csv(\"/Users/canyonfoot/Downloads/consecDD-JJA/consecDD-JJA.csv\", skiprows=1)"
   ]
  },
  {
   "cell_type": "code",
   "execution_count": null,
   "metadata": {},
   "outputs": [],
   "source": [
    "from src.process_LOCA import _preprocess_LOCA\n",
    "gdf = _preprocess_LOCA(df)"
   ]
  },
  {
   "cell_type": "code",
   "execution_count": 4,
   "metadata": {},
   "outputs": [],
   "source": [
    "import geopandas as gpd\n",
    "import pandas as pd\n",
    "counties = [\"001\", \"003\", \"005\", \"007\", \"009\", \"011\", \"013\", \"015\", \"017\", \"019\", \"021\", \"023\", \"025\", \"027\", \"029\", \"031\", \"033\", \"035\", \"037\", \"039\", \"041\", \"043\", \"045\"]\n",
    "\n",
    "gdfs = []\n",
    "for county in counties:\n",
    "    url = f\"https://www2.census.gov/geo/tiger/TIGER2023/AREAWATER/tl_2023_56{county}_areawater.zip\"\n",
    "    gdf = gpd.read_file(url)\n",
    "    gdfs.append(gdf)\n",
    "\n",
    "full_water = pd.concat(gdfs)"
   ]
  },
  {
   "cell_type": "code",
   "execution_count": null,
   "metadata": {},
   "outputs": [],
   "source": []
  }
 ],
 "metadata": {
  "kernelspec": {
   "display_name": "nwf-process-geodata-YVXeQpfw-py3.9",
   "language": "python",
   "name": "python3"
  },
  "language_info": {
   "codemirror_mode": {
    "name": "ipython",
    "version": 3
   },
   "file_extension": ".py",
   "mimetype": "text/x-python",
   "name": "python",
   "nbconvert_exporter": "python",
   "pygments_lexer": "ipython3",
   "version": "3.9.12"
  }
 },
 "nbformat": 4,
 "nbformat_minor": 2
}
