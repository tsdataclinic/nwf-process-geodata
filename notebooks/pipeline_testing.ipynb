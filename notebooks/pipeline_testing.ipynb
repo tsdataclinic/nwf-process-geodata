{
 "cells": [
  {
   "cell_type": "code",
   "execution_count": null,
   "metadata": {},
   "outputs": [],
   "source": [
    "import pandas as pd\n",
    "import geopandas as gpd\n",
    "import io\n",
    "import json\n",
    "import os\n",
    "\n",
    "os.chdir(\"/Users/canyonfoot/Documents/python_proj/nwf-process-geodata\")\n",
    "metadata_df = pd.read_csv(\"output_metadata.csv\")"
   ]
  },
  {
   "cell_type": "code",
   "execution_count": null,
   "metadata": {},
   "outputs": [],
   "source": [
    "from src.download import DataDownloaderUploader\n",
    "from src.process import Processor\n",
    "from src.document import DataDocumenter\n",
    "from src.export import s3Exporter"
   ]
  },
  {
   "cell_type": "code",
   "execution_count": null,
   "metadata": {},
   "outputs": [],
   "source": [
    "#DataDownloaderUploader().download_and_upload_main()\n",
    "#Processor().process_raw_datasets()\n",
    "DataDocumenter().document_processed_data()\n",
    "s3Exporter().export_all(\"export_test\")"
   ]
  },
  {
   "cell_type": "code",
   "execution_count": null,
   "metadata": {},
   "outputs": [],
   "source": [
    " "
   ]
  }
 ],
 "metadata": {
  "kernelspec": {
   "display_name": "nwf-process-geodata-YVXeQpfw-py3.9",
   "language": "python",
   "name": "python3"
  },
  "language_info": {
   "codemirror_mode": {
    "name": "ipython",
    "version": 3
   },
   "file_extension": ".py",
   "mimetype": "text/x-python",
   "name": "python",
   "nbconvert_exporter": "python",
   "pygments_lexer": "ipython3",
   "version": "3.9.12"
  }
 },
 "nbformat": 4,
 "nbformat_minor": 2
}
