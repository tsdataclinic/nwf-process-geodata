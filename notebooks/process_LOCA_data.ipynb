{
 "cells": [
  {
   "cell_type": "code",
   "execution_count": 2,
   "metadata": {},
   "outputs": [],
   "source": [
    "import pandas as pd\n",
    "import boto3\n",
    "import pandas as pd\n",
    "import tarfile\n",
    "import io\n",
    "import os\n",
    "os.chdir(\"/Users/canyonfoot/Documents/python_proj/nwf-process-geodata\")\n",
    "from src.common import *\n",
    "from rasterio.mask import mask\n",
    "from rasterio.io import MemoryFile\n",
    "import geopandas as gpd\n",
    "import pandas as pd\n",
    "import rasterio\n",
    "from rasterio.transform import from_origin\n",
    "import numpy as np\n",
    "from scipy.interpolate import griddata"
   ]
  },
  {
   "cell_type": "code",
   "execution_count": 3,
   "metadata": {},
   "outputs": [],
   "source": [
    "s3 = get_s3_client()"
   ]
  },
  {
   "cell_type": "code",
   "execution_count": 3,
   "metadata": {},
   "outputs": [],
   "source": [
    "def _read_LOCA_csv_from_s3_tar_gz(s3, bucket_name, tar_gz_key, csv_filename, skiprows = 1):\n",
    "\n",
    "    obj = s3.get_object(Bucket=bucket_name, Key=tar_gz_key)\n",
    "    tar_gz_stream = io.BytesIO(obj['Body'].read())\n",
    "    \n",
    "    with tarfile.open(fileobj=tar_gz_stream, mode='r:gz') as tar:\n",
    "        csv_file = tar.extractfile(csv_filename)\n",
    "        df = pd.read_csv(csv_file, skiprows=1)\n",
    "\n",
    "    return df\n",
    "\n",
    "def _preprocess_LOCA(df):\n",
    "    value_col = \"combined\"\n",
    "    df = df.replace(-999.0, np.NaN)\n",
    "    df[\"combined\"] = df[\"1976-2005\"] + df[\"2036-2065.1\"]\n",
    "\n",
    "    gdf = gpd.GeoDataFrame(df, geometry=gpd.points_from_xy(df.LON, df.LAT), crs='EPSG:4326')[[value_col, \"geometry\"]]\n",
    "\n",
    "    return gdf\n",
    "\n",
    "def _create_raster(gdf, full_path, value_col = 'combined', x_res = 0.05, y_res = 0.05):\n",
    "    x_min, y_min, x_max, y_max = gdf.total_bounds\n",
    "\n",
    "    # Create a transform\n",
    "    transform = from_origin(x_min, y_max, x_res, y_res)\n",
    "\n",
    "    # Prepare grid coordinates (correcting for typical meshgrid usage in scientific plotting)\n",
    "    grid_y, grid_x = np.mgrid[y_max:y_min:-y_res, x_min:x_max:x_res]  # Notice the reversed order and negative step for y\n",
    "\n",
    "    # Perform interpolation\n",
    "    raster = griddata(\n",
    "        points=(gdf.geometry.x, gdf.geometry.y),\n",
    "        values=gdf[value_col], \n",
    "        xi=(grid_x, grid_y),\n",
    "        method='nearest'\n",
    "    )\n",
    "\n",
    "    # Write the raster\n",
    "    with rasterio.open(\n",
    "        full_path, \n",
    "        'w',\n",
    "        driver='GTiff',\n",
    "        height=raster.shape[0],\n",
    "        width=raster.shape[1],\n",
    "        count=1,\n",
    "        dtype=str(raster.dtype),\n",
    "        crs='+proj=latlong',\n",
    "        transform=transform,\n",
    "    ) as dst:\n",
    "        dst.write(raster, 1)\n",
    "    \n",
    "def _trim_raster_to_wy(raster_path, trim_path):\n",
    "    # Read the raster file\n",
    "    with rasterio.open(raster_path) as src:\n",
    "        wyoming_gdf = gpd.read_file(\"wyoming.geojson\")\n",
    "        \n",
    "        # Mask the raster with the polygon\n",
    "        out_image, out_transform = mask(src, wyoming_gdf.geometry, crop=True)\n",
    "        out_image[out_image == 0] = np.nan\n",
    "\n",
    "        # Update metadata for the cropped raster\n",
    "        out_meta = src.meta.copy()\n",
    "        out_meta.update({\n",
    "            \"driver\": \"GTiff\",\n",
    "            \"height\": out_image.shape[1],\n",
    "            \"width\": out_image.shape[2],\n",
    "            \"transform\": out_transform,\n",
    "            \"nodata\" : np.nan\n",
    "        })\n",
    "        \n",
    "    with rasterio.open('trimmed_raster.tif', 'w', **out_meta) as dest:\n",
    "        dest.write(out_image)\n",
    "\n",
    "def main_process_LOCA(s3, BUCKET_NAME, tar_gz_key, csv_filename, full_path, trimmed_path):\n",
    "    df = _read_LOCA_csv_from_s3_tar_gz(s3, BUCKET_NAME, tar_gz_key, csv_filename, skiprows=1)\n",
    "    gdf = _preprocess_LOCA(df)\n",
    "    _create_raster(gdf,full_path)\n",
    "    _trim_raster_to_wy(full_path, trimmed_path)"
   ]
  },
  {
   "cell_type": "code",
   "execution_count": 4,
   "metadata": {},
   "outputs": [],
   "source": [
    "bucket_name = BUCKET_NAME\n",
    "tar_gz_key = 'data/raw/climate_change_indicators/extreme_heat/loca_extreme_temperature_forecast.tar.gz'\n",
    "csv_filename = 'tmax1day.csv'\n",
    "full_path = \"output_raster.tif\"\n",
    "trimmed_path = \"trimmed_raster.tif\"\n",
    "\n",
    "df = main_process_LOCA(s3, BUCKET_NAME, tar_gz_key, csv_filename, full_path, trimmed_path)"
   ]
  },
  {
   "cell_type": "code",
   "execution_count": 4,
   "metadata": {},
   "outputs": [],
   "source": [
    "gpd.read_file(\"/Users/canyonfoot/Downloads/Data-1/FPA_FOD_20221014.gdb/a0000000c.gdbtable\")"
   ]
  },
  {
   "cell_type": "code",
   "execution_count": null,
   "metadata": {},
   "outputs": [],
   "source": []
  }
 ],
 "metadata": {
  "kernelspec": {
   "display_name": "nwf-process-geodata-YVXeQpfw-py3.9",
   "language": "python",
   "name": "python3"
  },
  "language_info": {
   "codemirror_mode": {
    "name": "ipython",
    "version": 3
   },
   "file_extension": ".py",
   "mimetype": "text/x-python",
   "name": "python",
   "nbconvert_exporter": "python",
   "pygments_lexer": "ipython3",
   "version": "3.9.12"
  }
 },
 "nbformat": 4,
 "nbformat_minor": 2
}
