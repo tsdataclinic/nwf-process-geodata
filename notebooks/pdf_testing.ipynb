{
 "cells": [
  {
   "cell_type": "code",
   "execution_count": 84,
   "metadata": {},
   "outputs": [],
   "source": [
    "from fpdf import FPDF\n",
    "\n",
    "class PDF(FPDF):\n",
    "    def add_paragraph(self, text, width=190, height=10):\n",
    "        # Check current y position\n",
    "        current_y = self.get_y()\n",
    "        # If y is too close to the page bottom, add a new page\n",
    "        if current_y > self.page_break_trigger - 20:\n",
    "            self.add_page()\n",
    "        # Set x, y position for the text\n",
    "        self.set_xy(10.0, current_y + 5)  # Added a small space between paragraphs\n",
    "        self.set_text_color(0, 0, 0)\n",
    "        self.set_font('Arial', '', 12)\n",
    "        self.multi_cell(w=width, h=height, txt=text)\n",
    "\n",
    "# set up\n",
    "pdf = PDF()\n",
    "pdf.add_page()\n",
    "pdf.set_font(\"Arial\", size=12)"
   ]
  },
  {
   "cell_type": "code",
   "execution_count": 85,
   "metadata": {},
   "outputs": [],
   "source": [
    "os.chdir(\"/Users/canyonfoot/Documents/python_proj/nwf-process-geodata\")\n",
    "metadata_row = pd.read_csv(\"output_metadata.csv\").head(1)"
   ]
  },
  {
   "cell_type": "code",
   "execution_count": 86,
   "metadata": {},
   "outputs": [],
   "source": [
    "title = metadata_row.data_title[0].replace(\"\\n\", \"\")\n",
    "summary = metadata_row.data_summary[0].replace(\"\\n\", \"\")"
   ]
  },
  {
   "cell_type": "code",
   "execution_count": 87,
   "metadata": {},
   "outputs": [],
   "source": [
    "pdf.add_paragraph(f\"Dataset title: {title}\")\n",
    "pdf.add_paragraph(f\"Dataset summary: {summary}\")"
   ]
  },
  {
   "cell_type": "code",
   "execution_count": 88,
   "metadata": {},
   "outputs": [
    {
     "data": {
      "text/plain": [
       "''"
      ]
     },
     "execution_count": 88,
     "metadata": {},
     "output_type": "execute_result"
    }
   ],
   "source": [
    "# Save\n",
    "pdf.output(\"simple_demo.pdf\")"
   ]
  }
 ],
 "metadata": {
  "kernelspec": {
   "display_name": "nwf-process-geodata-YVXeQpfw-py3.9",
   "language": "python",
   "name": "python3"
  },
  "language_info": {
   "codemirror_mode": {
    "name": "ipython",
    "version": 3
   },
   "file_extension": ".py",
   "mimetype": "text/x-python",
   "name": "python",
   "nbconvert_exporter": "python",
   "pygments_lexer": "ipython3",
   "version": "3.9.12"
  }
 },
 "nbformat": 4,
 "nbformat_minor": 2
}
