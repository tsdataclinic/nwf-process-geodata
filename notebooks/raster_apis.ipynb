{
 "cells": [
  {
   "cell_type": "code",
   "execution_count": 21,
   "metadata": {},
   "outputs": [],
   "source": [
    "from arcgis.gis import GIS\n",
    "from arcgis.raster import ImageryLayer\n",
    "\n",
    "# Connect to your GIS (if you require a login, add your username and password)\n",
    "gis = GIS(\"https://www.arcgis.com\", username=\"canyonfoot1\", password=\"/dKqY9T!Ja-tM?Z\")\n",
    "\n",
    "# URL of the Image Server\n",
    "image_service_url = \"https://tiledimageservices3.arcgis.com/0Fs3HcaFfvzXvm7w/arcgis/rest/services/U_S__Climate_Thresholds___LOCA_RCP_8_5_Early_Century/ImageServer/query?outFields=*&where=1%3D1\"\n",
    "\n",
    "# Access the imagery layer\n",
    "imagery_layer = ImageryLayer(\"df33e2955f8344ccb3ced9c64bd1ff59\", gis=gis)"
   ]
  },
  {
   "cell_type": "code",
   "execution_count": null,
   "metadata": {},
   "outputs": [],
   "source": []
  },
  {
   "cell_type": "code",
   "execution_count": 22,
   "metadata": {},
   "outputs": [
    {
     "ename": "AttributeError",
     "evalue": "'bytes' object has no attribute 'content'",
     "output_type": "error",
     "traceback": [
      "\u001b[0;31m---------------------------------------------------------------------------\u001b[0m",
      "\u001b[0;31mAttributeError\u001b[0m                            Traceback (most recent call last)",
      "Cell \u001b[0;32mIn[22], line 13\u001b[0m\n\u001b[1;32m     11\u001b[0m \u001b[38;5;66;03m# Save the image locally\u001b[39;00m\n\u001b[1;32m     12\u001b[0m \u001b[38;5;28;01mwith\u001b[39;00m \u001b[38;5;28mopen\u001b[39m(\u001b[38;5;124m\"\u001b[39m\u001b[38;5;124mexported_imagery_layer.tif\u001b[39m\u001b[38;5;124m\"\u001b[39m, \u001b[38;5;124m\"\u001b[39m\u001b[38;5;124mwb\u001b[39m\u001b[38;5;124m\"\u001b[39m) \u001b[38;5;28;01mas\u001b[39;00m f:\n\u001b[0;32m---> 13\u001b[0m     f\u001b[38;5;241m.\u001b[39mwrite(\u001b[43mexported_image\u001b[49m\u001b[38;5;241;43m.\u001b[39;49m\u001b[43mcontent\u001b[49m)\n",
      "\u001b[0;31mAttributeError\u001b[0m: 'bytes' object has no attribute 'content'"
     ]
    }
   ],
   "source": [
    "\n",
    "# Specify the export parameters\n",
    "export_params = {\n",
    "    \"bbox\": \"-125.0,24.0,-66.0,50.0\",  # Example bounding box for the continental US\n",
    "    \"size\": \"1024,512\",  # Width and height in pixels\n",
    "    \"f\": \"image\",\n",
    "}\n",
    "\n",
    "# Export the image\n",
    "exported_image = imagery_layer.export_image(**export_params)\n",
    "\n",
    "# Save the image locally\n",
    "with open(\"exported_imagery_layer.tif\", \"wb\") as f:\n",
    "    f.write(exported_image.content)\n"
   ]
  },
  {
   "cell_type": "code",
   "execution_count": 23,
   "metadata": {},
   "outputs": [
    {
     "data": {
      "text/plain": [
       "b'\\n\\n\\n\\n\\n\\n\\n<html>\\n\\n\\n\\n\\n\\n\\n<head>\\n<title>\\nError: Invalid URL</title>\\n<link href=\"/sharing/rest/files/gw.css\" rel=\"stylesheet\" type=\"text/css\"/>\\n</head>\\n\\n<body>\\n\\n<table width=\"100%\" class=\"topTable\">\\n<tr valign=\"top\">\\n<td>\\n<b>ArcGIS Portal Directory</b>\\n\\n</td>\\n<td align=\"right\">\\n\\n</td>\\n</tr>\\n</table>\\n\\n<table class=\"navTable\" width=\"100%\"><tr><td class=\"breadcrumbs\">Error</td></tr></table>\\n\\n<div class=\"gwDiv\">\\n\\n<h3>Invalid URL</h3><br/>\\n\\n<b>Error: </b>400<br/><br/>\\n\\n\\n\\n</div>\\n\\n</body>\\n\\n</html>\\n'"
      ]
     },
     "execution_count": 23,
     "metadata": {},
     "output_type": "execute_result"
    }
   ],
   "source": [
    "exported_image"
   ]
  },
  {
   "cell_type": "code",
   "execution_count": null,
   "metadata": {},
   "outputs": [],
   "source": []
  }
 ],
 "metadata": {
  "kernelspec": {
   "display_name": "nwf-process-geodata-YVXeQpfw-py3.9",
   "language": "python",
   "name": "python3"
  },
  "language_info": {
   "codemirror_mode": {
    "name": "ipython",
    "version": 3
   },
   "file_extension": ".py",
   "mimetype": "text/x-python",
   "name": "python",
   "nbconvert_exporter": "python",
   "pygments_lexer": "ipython3",
   "version": "3.9.12"
  }
 },
 "nbformat": 4,
 "nbformat_minor": 2
}
