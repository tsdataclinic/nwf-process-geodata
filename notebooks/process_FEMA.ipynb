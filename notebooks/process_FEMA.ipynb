{
 "cells": [
  {
   "cell_type": "code",
   "execution_count": 1,
   "metadata": {},
   "outputs": [],
   "source": [
    "import geopandas as gpd\n",
    "import fiona\n",
    "import boto3\n",
    "from fiona.io import ZipMemoryFile\n",
    "import os\n",
    "os.chdir(\"/Users/canyonfoot/Documents/python_proj/nwf-process-geodata\")\n",
    "from src.common import *"
   ]
  },
  {
   "cell_type": "code",
   "execution_count": 5,
   "metadata": {},
   "outputs": [],
   "source": [
    "s3 = get_s3_client()\n",
    "key = \"data/raw/climate_change_indicators/flooding/fema_nfhl.zip\"\n",
    "BUCKET_NAME = \"dataclinic-nwf\""
   ]
  },
  {
   "cell_type": "code",
   "execution_count": null,
   "metadata": {},
   "outputs": [],
   "source": [
    "def extract_zip_file(file_to_extract, destination):\n",
    "    with zipfile.ZipFile(file_to_extract, 'r') as zip_ref:\n",
    "        zip_ref.extractall(destination)"
   ]
  }
 ],
 "metadata": {
  "kernelspec": {
   "display_name": "nwf-process-geodata-YVXeQpfw-py3.9",
   "language": "python",
   "name": "python3"
  },
  "language_info": {
   "codemirror_mode": {
    "name": "ipython",
    "version": 3
   },
   "file_extension": ".py",
   "mimetype": "text/x-python",
   "name": "python",
   "nbconvert_exporter": "python",
   "pygments_lexer": "ipython3",
   "version": "3.9.12"
  }
 },
 "nbformat": 4,
 "nbformat_minor": 2
}
