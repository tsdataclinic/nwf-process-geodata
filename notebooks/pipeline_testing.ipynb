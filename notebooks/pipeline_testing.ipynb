{
 "cells": [
  {
   "cell_type": "code",
   "execution_count": 1,
   "metadata": {},
   "outputs": [],
   "source": [
    "import pandas as pd\n",
    "import geopandas as gpd\n",
    "import io\n",
    "import json\n",
    "import os\n",
    "\n",
    "os.chdir(\"/Users/canyonfoot/Documents/python_proj/nwf-process-geodata\")\n",
    "metadata_df = pd.read_csv(\"output_metadata.csv\")"
   ]
  },
  {
   "cell_type": "code",
   "execution_count": 2,
   "metadata": {},
   "outputs": [],
   "source": [
    "from src.download import DataDownloaderUploader\n",
    "from src.process import Processor\n",
    "from src.document import DataDocumenter\n",
    "from src.export import s3Exporter"
   ]
  },
  {
   "cell_type": "code",
   "execution_count": 3,
   "metadata": {},
   "outputs": [
    {
     "name": "stderr",
     "output_type": "stream",
     "text": [
      "29it [00:00, 36.14it/s]"
     ]
    },
    {
     "name": "stdout",
     "output_type": "stream",
     "text": [
      "Successfully uploaded data/raw/wildlife/mule_deer_migration_-_sublette/mule_deer.geojson\n",
      "Successfully uploaded data/raw/wildlife/mule_deer_migration_-_platte_valley/mule_deer.geojson\n"
     ]
    },
    {
     "name": "stderr",
     "output_type": "stream",
     "text": [
      "33it [00:03,  5.19it/s]"
     ]
    },
    {
     "name": "stdout",
     "output_type": "stream",
     "text": [
      "Successfully uploaded data/raw/wildlife/mule_deer_migration_-_baggs/mule_deer.geojson\n"
     ]
    },
    {
     "name": "stderr",
     "output_type": "stream",
     "text": [
      "40it [00:09,  2.17it/s]"
     ]
    },
    {
     "name": "stdout",
     "output_type": "stream",
     "text": [
      "Successfully uploaded data/raw/wildlife/sage_grouse/core_area.zip\n"
     ]
    },
    {
     "name": "stderr",
     "output_type": "stream",
     "text": [
      "66it [00:10,  7.64it/s]"
     ]
    },
    {
     "name": "stdout",
     "output_type": "stream",
     "text": [
      "Successfully uploaded data/raw/wildlife/sage_grouse/connectivity_areas.zip\n"
     ]
    },
    {
     "name": "stderr",
     "output_type": "stream",
     "text": [
      "91it [00:22,  1.76it/s]"
     ]
    },
    {
     "name": "stdout",
     "output_type": "stream",
     "text": [
      "Successfully uploaded data/raw/wildlife/grazing/grazing_allotments_-_usfs.geojson\n"
     ]
    },
    {
     "name": "stderr",
     "output_type": "stream",
     "text": [
      "93it [00:24,  1.58it/s]"
     ]
    },
    {
     "name": "stdout",
     "output_type": "stream",
     "text": [
      "Successfully uploaded data/raw/administrative/boundaries_and_management/wind_river_reservation.geojson\n"
     ]
    },
    {
     "name": "stderr",
     "output_type": "stream",
     "text": [
      "118it [00:25,  4.59it/s]"
     ]
    },
    {
     "name": "stdout",
     "output_type": "stream",
     "text": [
      "Successfully uploaded data/raw/recreation/national_park_service/boundaries.geojson\n"
     ]
    },
    {
     "name": "stderr",
     "output_type": "stream",
     "text": [
      "\n",
      "  0%|          | 0/63 [00:00<?, ?it/s]"
     ]
    },
    {
     "name": "stdout",
     "output_type": "stream",
     "text": [
      "Processing data/raw/administrative/boundaries_and_management/wind_river_reservation.geojson\n"
     ]
    },
    {
     "name": "stderr",
     "output_type": "stream",
     "text": [
      "  2%|▏         | 1/63 [00:00<00:55,  1.11it/s]"
     ]
    },
    {
     "name": "stdout",
     "output_type": "stream",
     "text": [
      "Processing data/raw/crucial_critical/crucial_range/antelope.geojson\n",
      "Skipping data/raw/crucial_critical/crucial_range/antelope.geojson, which has already been processed.\n",
      "Processing data/raw/crucial_critical/crucial_range/bighorn_sheep.geojson\n",
      "Skipping data/raw/crucial_critical/crucial_range/bighorn_sheep.geojson, which has already been processed.\n",
      "Processing data/raw/crucial_critical/crucial_range/elk.geojson\n",
      "Skipping data/raw/crucial_critical/crucial_range/elk.geojson, which has already been processed.\n",
      "Processing data/raw/crucial_critical/crucial_range/moose.geojson\n",
      "Skipping data/raw/crucial_critical/crucial_range/moose.geojson, which has already been processed.\n",
      "Processing data/raw/crucial_critical/crucial_range/mule_deer.geojson\n",
      "Skipping data/raw/crucial_critical/crucial_range/mule_deer.geojson, which has already been processed.\n",
      "Processing data/raw/crucial_critical/crucial_range/rocky_mountain_goat.geojson\n",
      "Skipping data/raw/crucial_critical/crucial_range/rocky_mountain_goat.geojson, which has already been processed.\n",
      "Processing data/raw/crucial_critical/crucial_range/rocy_mountain_goat.geojson\n",
      "Skipping data/raw/crucial_critical/crucial_range/rocy_mountain_goat.geojson, which has already been processed.\n",
      "Processing data/raw/crucial_critical/crucial_range/whitetailed_deer.geojson\n",
      "Skipping data/raw/crucial_critical/crucial_range/whitetailed_deer.geojson, which has already been processed.\n",
      "Processing data/raw/crucial_critical/usfws_critical_habitat/canada_lynx.zip\n"
     ]
    },
    {
     "name": "stderr",
     "output_type": "stream",
     "text": [
      " 16%|█▌        | 10/63 [00:02<00:11,  4.67it/s]"
     ]
    },
    {
     "name": "stdout",
     "output_type": "stream",
     "text": [
      "Processing data/raw/crucial_critical/usfws_critical_habitat/critical_habitat_fearures_and_polygons.zip\n"
     ]
    },
    {
     "name": "stderr",
     "output_type": "stream",
     "text": [
      " 17%|█▋        | 11/63 [00:06<00:40,  1.29it/s]"
     ]
    },
    {
     "name": "stdout",
     "output_type": "stream",
     "text": [
      "Warning: data/raw/crucial_critical/usfws_critical_habitat/critical_habitat_fearures_and_polygons.zip is empty after processing.\n",
      "Processing data/raw/crucial_critical/usfws_critical_habitat/desert_yellowhead.zip\n"
     ]
    },
    {
     "name": "stderr",
     "output_type": "stream",
     "text": [
      " 19%|█▉        | 12/63 [00:07<00:35,  1.43it/s]"
     ]
    },
    {
     "name": "stdout",
     "output_type": "stream",
     "text": [
      "Processing data/raw/crucial_critical/usfws_critical_habitat/yellowbilled_cuckoo.zip\n"
     ]
    },
    {
     "name": "stderr",
     "output_type": "stream",
     "text": [
      " 21%|██        | 13/63 [00:07<00:31,  1.57it/s]"
     ]
    },
    {
     "name": "stdout",
     "output_type": "stream",
     "text": [
      "Warning: data/raw/crucial_critical/usfws_critical_habitat/yellowbilled_cuckoo.zip is empty after processing.\n",
      "Processing data/raw/crucial_critical/wgfd_aquatic/aquatic_crucial_habitat_priorities.geojson\n",
      "Skipping data/raw/crucial_critical/wgfd_aquatic/aquatic_crucial_habitat_priorities.geojson, which has already been processed.\n",
      "Processing data/raw/crucial_critical/wgfd_terrestrial/terrestrial_crucial_habitat_priorities.geojson\n",
      "Skipping data/raw/crucial_critical/wgfd_terrestrial/terrestrial_crucial_habitat_priorities.geojson, which has already been processed.\n",
      "Processing data/raw/habitat/usfws_area_of_influence/blackfooted_ferret.zip\n",
      "Error processing data/raw/habitat/usfws_area_of_influence/blackfooted_ferret.zip: '/vsimem/69b96ce2784f4db0a93b9048f0a9e9ca' not recognized as a supported file format.\n",
      "Processing data/raw/habitat/usfws_area_of_influence/blowout_penstemon.zip\n"
     ]
    },
    {
     "name": "stderr",
     "output_type": "stream",
     "text": [
      " 27%|██▋       | 17/63 [00:08<00:16,  2.72it/s]"
     ]
    },
    {
     "name": "stdout",
     "output_type": "stream",
     "text": [
      "Processing data/raw/habitat/usfws_area_of_influence/canada_lynx.zip\n"
     ]
    },
    {
     "name": "stderr",
     "output_type": "stream",
     "text": [
      " 29%|██▊       | 18/63 [00:15<01:03,  1.40s/it]"
     ]
    },
    {
     "name": "stdout",
     "output_type": "stream",
     "text": [
      "Processing data/raw/habitat/usfws_area_of_influence/desert_yellowhead.zip\n"
     ]
    },
    {
     "name": "stderr",
     "output_type": "stream",
     "text": [
      " 30%|███       | 19/63 [00:15<00:52,  1.20s/it]"
     ]
    },
    {
     "name": "stdout",
     "output_type": "stream",
     "text": [
      "Processing data/raw/habitat/usfws_area_of_influence/kendall_warm_spring_dace.zip\n"
     ]
    },
    {
     "name": "stderr",
     "output_type": "stream",
     "text": [
      " 32%|███▏      | 20/63 [00:16<00:47,  1.09s/it]"
     ]
    },
    {
     "name": "stdout",
     "output_type": "stream",
     "text": [
      "Processing data/raw/habitat/usfws_area_of_influence/north_american_wolverine.zip\n"
     ]
    },
    {
     "name": "stderr",
     "output_type": "stream",
     "text": [
      " 33%|███▎      | 21/63 [00:17<00:49,  1.18s/it]"
     ]
    },
    {
     "name": "stdout",
     "output_type": "stream",
     "text": [
      "Processing data/raw/habitat/usfws_area_of_influence/northern_long-eared_bat.zip\n"
     ]
    },
    {
     "name": "stderr",
     "output_type": "stream",
     "text": [
      " 35%|███▍      | 22/63 [00:18<00:43,  1.06s/it]"
     ]
    },
    {
     "name": "stdout",
     "output_type": "stream",
     "text": [
      "Processing data/raw/habitat/usfws_area_of_influence/ute_ladies'-tresses.zip\n"
     ]
    },
    {
     "name": "stderr",
     "output_type": "stream",
     "text": [
      " 37%|███▋      | 23/63 [01:50<16:24, 24.62s/it]"
     ]
    },
    {
     "name": "stdout",
     "output_type": "stream",
     "text": [
      "Processing data/raw/habitat/usfws_area_of_influence/whitebark_pine.zip\n"
     ]
    },
    {
     "name": "stderr",
     "output_type": "stream",
     "text": [
      " 38%|███▊      | 24/63 [01:51<11:56, 18.38s/it]"
     ]
    },
    {
     "name": "stdout",
     "output_type": "stream",
     "text": [
      "Processing data/raw/habitat/usfws_area_of_influence/wyoming_toad.zip\n"
     ]
    },
    {
     "name": "stderr",
     "output_type": "stream",
     "text": [
      " 40%|███▉      | 25/63 [01:52<08:28, 13.37s/it]"
     ]
    },
    {
     "name": "stdout",
     "output_type": "stream",
     "text": [
      "Processing data/raw/habitat/usfws_area_of_influence/yellow_billed_cuckoo.zip\n"
     ]
    },
    {
     "name": "stderr",
     "output_type": "stream",
     "text": [
      " 41%|████▏     | 26/63 [01:58<07:03, 11.45s/it]"
     ]
    },
    {
     "name": "stdout",
     "output_type": "stream",
     "text": [
      "Processing data/raw/habitat/wgfd_aquatic/aquatic_connectivity_habitat_priorities.geojson\n",
      "Skipping data/raw/habitat/wgfd_aquatic/aquatic_connectivity_habitat_priorities.geojson, which has already been processed.\n",
      "Processing data/raw/habitat/wgfd_aquatic/aquatic_restoration_habitat_priorities.geojson\n",
      "Skipping data/raw/habitat/wgfd_aquatic/aquatic_restoration_habitat_priorities.geojson, which has already been processed.\n",
      "Processing data/raw/habitat/wgfd_terrestrial/terrestrial_connectivity_habitat_priorities.geojson\n",
      "Skipping data/raw/habitat/wgfd_terrestrial/terrestrial_connectivity_habitat_priorities.geojson, which has already been processed.\n",
      "Processing data/raw/habitat/wgfd_terrestrial/terrestrial_restoration_habitat_priorities.geojson\n",
      "Skipping data/raw/habitat/wgfd_terrestrial/terrestrial_restoration_habitat_priorities.geojson, which has already been processed.\n",
      "Processing data/raw/recreation/aquatic/sport_fish_designations.geojson\n",
      "Skipping data/raw/recreation/aquatic/sport_fish_designations.geojson, which has already been processed.\n",
      "Processing data/raw/recreation/big_game_hunt_areas/antelope.geojson\n",
      "Skipping data/raw/recreation/big_game_hunt_areas/antelope.geojson, which has already been processed.\n",
      "Processing data/raw/recreation/big_game_hunt_areas/bighord_sheep.geojson\n",
      "Skipping data/raw/recreation/big_game_hunt_areas/bighord_sheep.geojson, which has already been processed.\n",
      "Processing data/raw/recreation/big_game_hunt_areas/bison.geojson\n",
      "Skipping data/raw/recreation/big_game_hunt_areas/bison.geojson, which has already been processed.\n",
      "Processing data/raw/recreation/big_game_hunt_areas/black_bear.geojson\n",
      "Skipping data/raw/recreation/big_game_hunt_areas/black_bear.geojson, which has already been processed.\n",
      "Processing data/raw/recreation/big_game_hunt_areas/deer.geojson\n",
      "Skipping data/raw/recreation/big_game_hunt_areas/deer.geojson, which has already been processed.\n",
      "Processing data/raw/recreation/big_game_hunt_areas/elk.geojson\n",
      "Skipping data/raw/recreation/big_game_hunt_areas/elk.geojson, which has already been processed.\n",
      "Processing data/raw/recreation/big_game_hunt_areas/grizzly_bear.geojson\n",
      "Skipping data/raw/recreation/big_game_hunt_areas/grizzly_bear.geojson, which has already been processed.\n",
      "Processing data/raw/recreation/big_game_hunt_areas/mountain_lion.geojson\n",
      "Skipping data/raw/recreation/big_game_hunt_areas/mountain_lion.geojson, which has already been processed.\n",
      "Processing data/raw/recreation/big_game_hunt_areas/rocky_mountain_goat.geojson\n",
      "Skipping data/raw/recreation/big_game_hunt_areas/rocky_mountain_goat.geojson, which has already been processed.\n",
      "Processing data/raw/recreation/big_game_hunt_areas/wolf.geojson\n",
      "Skipping data/raw/recreation/big_game_hunt_areas/wolf.geojson, which has already been processed.\n",
      "Processing data/raw/recreation/national_park_service/boundaries.geojson\n"
     ]
    },
    {
     "name": "stderr",
     "output_type": "stream",
     "text": [
      " 67%|██████▋   | 42/63 [01:59<00:32,  1.55s/it]"
     ]
    },
    {
     "name": "stdout",
     "output_type": "stream",
     "text": [
      "Processing data/raw/wildlife/aquatic/crucial_stream_corridors.geojson\n",
      "Skipping data/raw/wildlife/aquatic/crucial_stream_corridors.geojson, which has already been processed.\n",
      "Processing data/raw/wildlife/aquatic_/crucial_stream_corridors.geojson\n",
      "Skipping data/raw/wildlife/aquatic_/crucial_stream_corridors.geojson, which has already been processed.\n",
      "Processing data/raw/wildlife/big_game_herd_units/antelope.geojson\n",
      "Skipping data/raw/wildlife/big_game_herd_units/antelope.geojson, which has already been processed.\n",
      "Processing data/raw/wildlife/big_game_herd_units/bighorn_sheep.geojson\n",
      "Skipping data/raw/wildlife/big_game_herd_units/bighorn_sheep.geojson, which has already been processed.\n",
      "Processing data/raw/wildlife/big_game_herd_units/bison.geojson\n",
      "Skipping data/raw/wildlife/big_game_herd_units/bison.geojson, which has already been processed.\n",
      "Processing data/raw/wildlife/big_game_herd_units/elk.geojson\n",
      "Skipping data/raw/wildlife/big_game_herd_units/elk.geojson, which has already been processed.\n",
      "Processing data/raw/wildlife/big_game_herd_units/mule_deer.geojson\n",
      "Skipping data/raw/wildlife/big_game_herd_units/mule_deer.geojson, which has already been processed.\n",
      "Processing data/raw/wildlife/big_game_herd_units/rocky_mountain_goat.geojson\n",
      "Skipping data/raw/wildlife/big_game_herd_units/rocky_mountain_goat.geojson, which has already been processed.\n",
      "Processing data/raw/wildlife/big_game_herd_units/whitetailed_deer.geojson\n",
      "Skipping data/raw/wildlife/big_game_herd_units/whitetailed_deer.geojson, which has already been processed.\n",
      "Processing data/raw/wildlife/grazing/grazing_allotments_-_usfs.geojson\n"
     ]
    },
    {
     "name": "stderr",
     "output_type": "stream",
     "text": [
      " 83%|████████▎ | 52/63 [02:04<00:11,  1.08s/it]"
     ]
    },
    {
     "name": "stdout",
     "output_type": "stream",
     "text": [
      "Processing data/raw/wildlife/mule_deer_migration_-_baggs/mule_deer.geojson\n",
      "Skipping data/raw/wildlife/mule_deer_migration_-_baggs/mule_deer.geojson, which has already been processed.\n",
      "Processing data/raw/wildlife/mule_deer_migration_-_baggs/mule_deer.zip\n"
     ]
    },
    {
     "name": "stderr",
     "output_type": "stream",
     "text": [
      " 86%|████████▌ | 54/63 [02:04<00:08,  1.00it/s]"
     ]
    },
    {
     "name": "stdout",
     "output_type": "stream",
     "text": [
      "Processing data/raw/wildlife/mule_deer_migration_-_platte_valley/mule_deer.geojson\n",
      "Skipping data/raw/wildlife/mule_deer_migration_-_platte_valley/mule_deer.geojson, which has already been processed.\n",
      "Processing data/raw/wildlife/mule_deer_migration_-_platte_valley/mule_deer.zip\n"
     ]
    },
    {
     "name": "stderr",
     "output_type": "stream",
     "text": [
      " 89%|████████▉ | 56/63 [02:05<00:06,  1.13it/s]"
     ]
    },
    {
     "name": "stdout",
     "output_type": "stream",
     "text": [
      "Processing data/raw/wildlife/mule_deer_migration_-_sublette/mule_deer.geojson\n",
      "Skipping data/raw/wildlife/mule_deer_migration_-_sublette/mule_deer.geojson, which has already been processed.\n",
      "Processing data/raw/wildlife/mule_deer_migration_-_sublette/mule_deer.zip\n"
     ]
    },
    {
     "name": "stderr",
     "output_type": "stream",
     "text": [
      " 92%|█████████▏| 58/63 [02:05<00:03,  1.28it/s]"
     ]
    },
    {
     "name": "stdout",
     "output_type": "stream",
     "text": [
      "Processing data/raw/wildlife/sage_grouse/connectivity_areas.zip\n"
     ]
    },
    {
     "name": "stderr",
     "output_type": "stream",
     "text": [
      " 94%|█████████▎| 59/63 [02:05<00:02,  1.38it/s]"
     ]
    },
    {
     "name": "stdout",
     "output_type": "stream",
     "text": [
      "Processing data/raw/wildlife/sage_grouse/core_and_connectivity_areas.zip\n"
     ]
    },
    {
     "name": "stderr",
     "output_type": "stream",
     "text": [
      " 95%|█████████▌| 60/63 [02:06<00:01,  1.51it/s]"
     ]
    },
    {
     "name": "stdout",
     "output_type": "stream",
     "text": [
      "Processing data/raw/wildlife/sage_grouse/core_area.zip\n"
     ]
    },
    {
     "name": "stderr",
     "output_type": "stream",
     "text": [
      " 97%|█████████▋| 61/63 [02:07<00:01,  1.34it/s]"
     ]
    },
    {
     "name": "stdout",
     "output_type": "stream",
     "text": [
      "Processing data/raw/wildlife/sage_grouse/plss_sections_with_occupied_leks.zip\n"
     ]
    },
    {
     "name": "stderr",
     "output_type": "stream",
     "text": [
      " 98%|█████████▊| 62/63 [02:08<00:00,  1.23it/s]"
     ]
    },
    {
     "name": "stdout",
     "output_type": "stream",
     "text": [
      "Processing data/raw/wildlife/sage_grouse/winter_concentration_areas.zip\n"
     ]
    },
    {
     "name": "stderr",
     "output_type": "stream",
     "text": [
      "100%|██████████| 63/63 [02:08<00:00,  2.05s/it]\n"
     ]
    },
    {
     "name": "stdout",
     "output_type": "stream",
     "text": [
      "Downloaded data/processed/administrative/boundaries_and_management/wind_river_reservation.geojson to export_test/data/processed/administrative/boundaries_and_management/wind_river_reservation.geojson\n",
      "Downloaded data/processed/crucial_critical/crucial_range/antelope.geojson to export_test/data/processed/crucial_critical/crucial_range/antelope.geojson\n",
      "Downloaded data/processed/crucial_critical/crucial_range/bighorn_sheep.geojson to export_test/data/processed/crucial_critical/crucial_range/bighorn_sheep.geojson\n",
      "Downloaded data/processed/crucial_critical/crucial_range/elk.geojson to export_test/data/processed/crucial_critical/crucial_range/elk.geojson\n",
      "Downloaded data/processed/crucial_critical/crucial_range/moose.geojson to export_test/data/processed/crucial_critical/crucial_range/moose.geojson\n",
      "Downloaded data/processed/crucial_critical/crucial_range/mule_deer.geojson to export_test/data/processed/crucial_critical/crucial_range/mule_deer.geojson\n",
      "Downloaded data/processed/crucial_critical/crucial_range/rocky_mountain_goat.geojson to export_test/data/processed/crucial_critical/crucial_range/rocky_mountain_goat.geojson\n",
      "Downloaded data/processed/crucial_critical/crucial_range/rocy_mountain_goat.geojson to export_test/data/processed/crucial_critical/crucial_range/rocy_mountain_goat.geojson\n",
      "Downloaded data/processed/crucial_critical/crucial_range/whitetailed_deer.geojson to export_test/data/processed/crucial_critical/crucial_range/whitetailed_deer.geojson\n",
      "Downloaded data/processed/crucial_critical/usfws_critical_habitat/canada_lynx.geojson to export_test/data/processed/crucial_critical/usfws_critical_habitat/canada_lynx.geojson\n",
      "Downloaded data/processed/crucial_critical/usfws_critical_habitat/critical_habitat_fearures_and_polygons.geojson to export_test/data/processed/crucial_critical/usfws_critical_habitat/critical_habitat_fearures_and_polygons.geojson\n",
      "Downloaded data/processed/crucial_critical/usfws_critical_habitat/desert_yellowhead.geojson to export_test/data/processed/crucial_critical/usfws_critical_habitat/desert_yellowhead.geojson\n",
      "Downloaded data/processed/crucial_critical/usfws_critical_habitat/yellowbilled_cuckoo.geojson to export_test/data/processed/crucial_critical/usfws_critical_habitat/yellowbilled_cuckoo.geojson\n",
      "Downloaded data/processed/crucial_critical/wgfd_aquatic/aquatic_crucial_habitat_priorities.geojson to export_test/data/processed/crucial_critical/wgfd_aquatic/aquatic_crucial_habitat_priorities.geojson\n",
      "Downloaded data/processed/crucial_critical/wgfd_terrestrial/terrestrial_crucial_habitat_priorities.geojson to export_test/data/processed/crucial_critical/wgfd_terrestrial/terrestrial_crucial_habitat_priorities.geojson\n",
      "Downloaded data/processed/habitat/usfws_area_of_influence/blowout_penstemon.geojson to export_test/data/processed/habitat/usfws_area_of_influence/blowout_penstemon.geojson\n",
      "Downloaded data/processed/habitat/usfws_area_of_influence/canada_lynx.geojson to export_test/data/processed/habitat/usfws_area_of_influence/canada_lynx.geojson\n",
      "Downloaded data/processed/habitat/usfws_area_of_influence/desert_yellowhead.geojson to export_test/data/processed/habitat/usfws_area_of_influence/desert_yellowhead.geojson\n",
      "Downloaded data/processed/habitat/usfws_area_of_influence/kendall_warm_spring_dace.geojson to export_test/data/processed/habitat/usfws_area_of_influence/kendall_warm_spring_dace.geojson\n",
      "Downloaded data/processed/habitat/usfws_area_of_influence/north_american_wolverine.geojson to export_test/data/processed/habitat/usfws_area_of_influence/north_american_wolverine.geojson\n",
      "Downloaded data/processed/habitat/usfws_area_of_influence/northern_long-eared_bat.geojson to export_test/data/processed/habitat/usfws_area_of_influence/northern_long-eared_bat.geojson\n",
      "Downloaded data/processed/habitat/usfws_area_of_influence/ute_ladies'-tresses.geojson to export_test/data/processed/habitat/usfws_area_of_influence/ute_ladies'-tresses.geojson\n",
      "Downloaded data/processed/habitat/usfws_area_of_influence/whitebark_pine.geojson to export_test/data/processed/habitat/usfws_area_of_influence/whitebark_pine.geojson\n",
      "Downloaded data/processed/habitat/usfws_area_of_influence/wyoming_toad.geojson to export_test/data/processed/habitat/usfws_area_of_influence/wyoming_toad.geojson\n",
      "Downloaded data/processed/habitat/usfws_area_of_influence/yellow_billed_cuckoo.geojson to export_test/data/processed/habitat/usfws_area_of_influence/yellow_billed_cuckoo.geojson\n",
      "Downloaded data/processed/habitat/wgfd_aquatic/aquatic_connectivity_habitat_priorities.geojson to export_test/data/processed/habitat/wgfd_aquatic/aquatic_connectivity_habitat_priorities.geojson\n",
      "Downloaded data/processed/habitat/wgfd_aquatic/aquatic_restoration_habitat_priorities.geojson to export_test/data/processed/habitat/wgfd_aquatic/aquatic_restoration_habitat_priorities.geojson\n",
      "Downloaded data/processed/habitat/wgfd_terrestrial/terrestrial_connectivity_habitat_priorities.geojson to export_test/data/processed/habitat/wgfd_terrestrial/terrestrial_connectivity_habitat_priorities.geojson\n",
      "Downloaded data/processed/habitat/wgfd_terrestrial/terrestrial_restoration_habitat_priorities.geojson to export_test/data/processed/habitat/wgfd_terrestrial/terrestrial_restoration_habitat_priorities.geojson\n",
      "Downloaded data/processed/recreation/aquatic/sport_fish_designations.geojson to export_test/data/processed/recreation/aquatic/sport_fish_designations.geojson\n",
      "Downloaded data/processed/recreation/big_game_hunt_areas/antelope.geojson to export_test/data/processed/recreation/big_game_hunt_areas/antelope.geojson\n",
      "Downloaded data/processed/recreation/big_game_hunt_areas/bighord_sheep.geojson to export_test/data/processed/recreation/big_game_hunt_areas/bighord_sheep.geojson\n",
      "Downloaded data/processed/recreation/big_game_hunt_areas/bison.geojson to export_test/data/processed/recreation/big_game_hunt_areas/bison.geojson\n",
      "Downloaded data/processed/recreation/big_game_hunt_areas/black_bear.geojson to export_test/data/processed/recreation/big_game_hunt_areas/black_bear.geojson\n",
      "Downloaded data/processed/recreation/big_game_hunt_areas/deer.geojson to export_test/data/processed/recreation/big_game_hunt_areas/deer.geojson\n",
      "Downloaded data/processed/recreation/big_game_hunt_areas/elk.geojson to export_test/data/processed/recreation/big_game_hunt_areas/elk.geojson\n",
      "Downloaded data/processed/recreation/big_game_hunt_areas/grizzly_bear.geojson to export_test/data/processed/recreation/big_game_hunt_areas/grizzly_bear.geojson\n",
      "Downloaded data/processed/recreation/big_game_hunt_areas/mountain_lion.geojson to export_test/data/processed/recreation/big_game_hunt_areas/mountain_lion.geojson\n",
      "Downloaded data/processed/recreation/big_game_hunt_areas/rocky_mountain_goat.geojson to export_test/data/processed/recreation/big_game_hunt_areas/rocky_mountain_goat.geojson\n",
      "Downloaded data/processed/recreation/big_game_hunt_areas/wolf.geojson to export_test/data/processed/recreation/big_game_hunt_areas/wolf.geojson\n",
      "Downloaded data/processed/recreation/national_park_service/boundaries.geojson to export_test/data/processed/recreation/national_park_service/boundaries.geojson\n",
      "Downloaded data/processed/wildlife/aquatic/crucial_stream_corridors.geojson to export_test/data/processed/wildlife/aquatic/crucial_stream_corridors.geojson\n",
      "Downloaded data/processed/wildlife/aquatic_/crucial_stream_corridors.geojson to export_test/data/processed/wildlife/aquatic_/crucial_stream_corridors.geojson\n",
      "Downloaded data/processed/wildlife/big_game_herd_units/antelope.geojson to export_test/data/processed/wildlife/big_game_herd_units/antelope.geojson\n",
      "Downloaded data/processed/wildlife/big_game_herd_units/bighorn_sheep.geojson to export_test/data/processed/wildlife/big_game_herd_units/bighorn_sheep.geojson\n",
      "Downloaded data/processed/wildlife/big_game_herd_units/bison.geojson to export_test/data/processed/wildlife/big_game_herd_units/bison.geojson\n",
      "Downloaded data/processed/wildlife/big_game_herd_units/elk.geojson to export_test/data/processed/wildlife/big_game_herd_units/elk.geojson\n",
      "Downloaded data/processed/wildlife/big_game_herd_units/mule_deer.geojson to export_test/data/processed/wildlife/big_game_herd_units/mule_deer.geojson\n",
      "Downloaded data/processed/wildlife/big_game_herd_units/rocky_mountain_goat.geojson to export_test/data/processed/wildlife/big_game_herd_units/rocky_mountain_goat.geojson\n",
      "Downloaded data/processed/wildlife/big_game_herd_units/whitetailed_deer.geojson to export_test/data/processed/wildlife/big_game_herd_units/whitetailed_deer.geojson\n",
      "Downloaded data/processed/wildlife/grazing/grazing_allotments_-_usfs.geojson to export_test/data/processed/wildlife/grazing/grazing_allotments_-_usfs.geojson\n",
      "Downloaded data/processed/wildlife/mule_deer_migration_-_baggs/mule_deer.geojson to export_test/data/processed/wildlife/mule_deer_migration_-_baggs/mule_deer.geojson\n",
      "Downloaded data/processed/wildlife/mule_deer_migration_-_platte_valley/mule_deer.geojson to export_test/data/processed/wildlife/mule_deer_migration_-_platte_valley/mule_deer.geojson\n",
      "Downloaded data/processed/wildlife/mule_deer_migration_-_sublette/mule_deer.geojson to export_test/data/processed/wildlife/mule_deer_migration_-_sublette/mule_deer.geojson\n",
      "Downloaded data/processed/wildlife/sage_grouse/connectivity_areas.geojson to export_test/data/processed/wildlife/sage_grouse/connectivity_areas.geojson\n",
      "Downloaded data/processed/wildlife/sage_grouse/core_and_connectivity_areas.geojson to export_test/data/processed/wildlife/sage_grouse/core_and_connectivity_areas.geojson\n",
      "Downloaded data/processed/wildlife/sage_grouse/core_area.geojson to export_test/data/processed/wildlife/sage_grouse/core_area.geojson\n",
      "Downloaded data/processed/wildlife/sage_grouse/plss_sections_with_occupied_leks.geojson to export_test/data/processed/wildlife/sage_grouse/plss_sections_with_occupied_leks.geojson\n",
      "Downloaded data/processed/wildlife/sage_grouse/winter_concentration_areas.geojson to export_test/data/processed/wildlife/sage_grouse/winter_concentration_areas.geojson\n",
      "Downloaded data/raw/administrative/boundaries_and_management/wind_river_reservation.geojson to export_test/data/raw/administrative/boundaries_and_management/wind_river_reservation.geojson\n",
      "Downloaded data/raw/crucial_critical/crucial_range/antelope.geojson to export_test/data/raw/crucial_critical/crucial_range/antelope.geojson\n",
      "Downloaded data/raw/crucial_critical/crucial_range/bighorn_sheep.geojson to export_test/data/raw/crucial_critical/crucial_range/bighorn_sheep.geojson\n",
      "Downloaded data/raw/crucial_critical/crucial_range/elk.geojson to export_test/data/raw/crucial_critical/crucial_range/elk.geojson\n",
      "Downloaded data/raw/crucial_critical/crucial_range/moose.geojson to export_test/data/raw/crucial_critical/crucial_range/moose.geojson\n",
      "Downloaded data/raw/crucial_critical/crucial_range/mule_deer.geojson to export_test/data/raw/crucial_critical/crucial_range/mule_deer.geojson\n",
      "Downloaded data/raw/crucial_critical/crucial_range/rocky_mountain_goat.geojson to export_test/data/raw/crucial_critical/crucial_range/rocky_mountain_goat.geojson\n",
      "Downloaded data/raw/crucial_critical/crucial_range/rocy_mountain_goat.geojson to export_test/data/raw/crucial_critical/crucial_range/rocy_mountain_goat.geojson\n",
      "Downloaded data/raw/crucial_critical/crucial_range/whitetailed_deer.geojson to export_test/data/raw/crucial_critical/crucial_range/whitetailed_deer.geojson\n",
      "Downloaded data/raw/crucial_critical/usfws_critical_habitat/canada_lynx.zip to export_test/data/raw/crucial_critical/usfws_critical_habitat/canada_lynx.zip\n",
      "Downloaded data/raw/crucial_critical/usfws_critical_habitat/critical_habitat_fearures_and_polygons.zip to export_test/data/raw/crucial_critical/usfws_critical_habitat/critical_habitat_fearures_and_polygons.zip\n",
      "Downloaded data/raw/crucial_critical/usfws_critical_habitat/desert_yellowhead.zip to export_test/data/raw/crucial_critical/usfws_critical_habitat/desert_yellowhead.zip\n",
      "Downloaded data/raw/crucial_critical/usfws_critical_habitat/yellowbilled_cuckoo.zip to export_test/data/raw/crucial_critical/usfws_critical_habitat/yellowbilled_cuckoo.zip\n",
      "Downloaded data/raw/crucial_critical/wgfd_aquatic/aquatic_crucial_habitat_priorities.geojson to export_test/data/raw/crucial_critical/wgfd_aquatic/aquatic_crucial_habitat_priorities.geojson\n",
      "Downloaded data/raw/crucial_critical/wgfd_terrestrial/terrestrial_crucial_habitat_priorities.geojson to export_test/data/raw/crucial_critical/wgfd_terrestrial/terrestrial_crucial_habitat_priorities.geojson\n",
      "Downloaded data/raw/habitat/usfws_area_of_influence/blackfooted_ferret.zip to export_test/data/raw/habitat/usfws_area_of_influence/blackfooted_ferret.zip\n",
      "Downloaded data/raw/habitat/usfws_area_of_influence/blowout_penstemon.zip to export_test/data/raw/habitat/usfws_area_of_influence/blowout_penstemon.zip\n",
      "Downloaded data/raw/habitat/usfws_area_of_influence/canada_lynx.zip to export_test/data/raw/habitat/usfws_area_of_influence/canada_lynx.zip\n",
      "Downloaded data/raw/habitat/usfws_area_of_influence/desert_yellowhead.zip to export_test/data/raw/habitat/usfws_area_of_influence/desert_yellowhead.zip\n",
      "Downloaded data/raw/habitat/usfws_area_of_influence/kendall_warm_spring_dace.zip to export_test/data/raw/habitat/usfws_area_of_influence/kendall_warm_spring_dace.zip\n",
      "Downloaded data/raw/habitat/usfws_area_of_influence/north_american_wolverine.zip to export_test/data/raw/habitat/usfws_area_of_influence/north_american_wolverine.zip\n",
      "Downloaded data/raw/habitat/usfws_area_of_influence/northern_long-eared_bat.zip to export_test/data/raw/habitat/usfws_area_of_influence/northern_long-eared_bat.zip\n",
      "Downloaded data/raw/habitat/usfws_area_of_influence/ute_ladies'-tresses.zip to export_test/data/raw/habitat/usfws_area_of_influence/ute_ladies'-tresses.zip\n",
      "Downloaded data/raw/habitat/usfws_area_of_influence/whitebark_pine.zip to export_test/data/raw/habitat/usfws_area_of_influence/whitebark_pine.zip\n",
      "Downloaded data/raw/habitat/usfws_area_of_influence/wyoming_toad.zip to export_test/data/raw/habitat/usfws_area_of_influence/wyoming_toad.zip\n",
      "Downloaded data/raw/habitat/usfws_area_of_influence/yellow_billed_cuckoo.zip to export_test/data/raw/habitat/usfws_area_of_influence/yellow_billed_cuckoo.zip\n",
      "Downloaded data/raw/habitat/wgfd_aquatic/aquatic_connectivity_habitat_priorities.geojson to export_test/data/raw/habitat/wgfd_aquatic/aquatic_connectivity_habitat_priorities.geojson\n",
      "Downloaded data/raw/habitat/wgfd_aquatic/aquatic_restoration_habitat_priorities.geojson to export_test/data/raw/habitat/wgfd_aquatic/aquatic_restoration_habitat_priorities.geojson\n",
      "Downloaded data/raw/habitat/wgfd_terrestrial/terrestrial_connectivity_habitat_priorities.geojson to export_test/data/raw/habitat/wgfd_terrestrial/terrestrial_connectivity_habitat_priorities.geojson\n",
      "Downloaded data/raw/habitat/wgfd_terrestrial/terrestrial_restoration_habitat_priorities.geojson to export_test/data/raw/habitat/wgfd_terrestrial/terrestrial_restoration_habitat_priorities.geojson\n",
      "Downloaded data/raw/recreation/aquatic/sport_fish_designations.geojson to export_test/data/raw/recreation/aquatic/sport_fish_designations.geojson\n",
      "Downloaded data/raw/recreation/big_game_hunt_areas/antelope.geojson to export_test/data/raw/recreation/big_game_hunt_areas/antelope.geojson\n",
      "Downloaded data/raw/recreation/big_game_hunt_areas/bighord_sheep.geojson to export_test/data/raw/recreation/big_game_hunt_areas/bighord_sheep.geojson\n",
      "Downloaded data/raw/recreation/big_game_hunt_areas/bison.geojson to export_test/data/raw/recreation/big_game_hunt_areas/bison.geojson\n",
      "Downloaded data/raw/recreation/big_game_hunt_areas/black_bear.geojson to export_test/data/raw/recreation/big_game_hunt_areas/black_bear.geojson\n",
      "Downloaded data/raw/recreation/big_game_hunt_areas/deer.geojson to export_test/data/raw/recreation/big_game_hunt_areas/deer.geojson\n",
      "Downloaded data/raw/recreation/big_game_hunt_areas/elk.geojson to export_test/data/raw/recreation/big_game_hunt_areas/elk.geojson\n",
      "Downloaded data/raw/recreation/big_game_hunt_areas/grizzly_bear.geojson to export_test/data/raw/recreation/big_game_hunt_areas/grizzly_bear.geojson\n",
      "Downloaded data/raw/recreation/big_game_hunt_areas/mountain_lion.geojson to export_test/data/raw/recreation/big_game_hunt_areas/mountain_lion.geojson\n",
      "Downloaded data/raw/recreation/big_game_hunt_areas/rocky_mountain_goat.geojson to export_test/data/raw/recreation/big_game_hunt_areas/rocky_mountain_goat.geojson\n",
      "Downloaded data/raw/recreation/big_game_hunt_areas/wolf.geojson to export_test/data/raw/recreation/big_game_hunt_areas/wolf.geojson\n",
      "Downloaded data/raw/recreation/national_park_service/boundaries.geojson to export_test/data/raw/recreation/national_park_service/boundaries.geojson\n",
      "Downloaded data/raw/wildlife/aquatic/crucial_stream_corridors.geojson to export_test/data/raw/wildlife/aquatic/crucial_stream_corridors.geojson\n",
      "Downloaded data/raw/wildlife/aquatic_/crucial_stream_corridors.geojson to export_test/data/raw/wildlife/aquatic_/crucial_stream_corridors.geojson\n",
      "Downloaded data/raw/wildlife/big_game_herd_units/antelope.geojson to export_test/data/raw/wildlife/big_game_herd_units/antelope.geojson\n",
      "Downloaded data/raw/wildlife/big_game_herd_units/bighorn_sheep.geojson to export_test/data/raw/wildlife/big_game_herd_units/bighorn_sheep.geojson\n",
      "Downloaded data/raw/wildlife/big_game_herd_units/bison.geojson to export_test/data/raw/wildlife/big_game_herd_units/bison.geojson\n",
      "Downloaded data/raw/wildlife/big_game_herd_units/elk.geojson to export_test/data/raw/wildlife/big_game_herd_units/elk.geojson\n",
      "Downloaded data/raw/wildlife/big_game_herd_units/mule_deer.geojson to export_test/data/raw/wildlife/big_game_herd_units/mule_deer.geojson\n",
      "Downloaded data/raw/wildlife/big_game_herd_units/rocky_mountain_goat.geojson to export_test/data/raw/wildlife/big_game_herd_units/rocky_mountain_goat.geojson\n",
      "Downloaded data/raw/wildlife/big_game_herd_units/whitetailed_deer.geojson to export_test/data/raw/wildlife/big_game_herd_units/whitetailed_deer.geojson\n",
      "Downloaded data/raw/wildlife/grazing/grazing_allotments_-_usfs.geojson to export_test/data/raw/wildlife/grazing/grazing_allotments_-_usfs.geojson\n",
      "Downloaded data/raw/wildlife/mule_deer_migration_-_baggs/mule_deer.geojson to export_test/data/raw/wildlife/mule_deer_migration_-_baggs/mule_deer.geojson\n",
      "Downloaded data/raw/wildlife/mule_deer_migration_-_baggs/mule_deer.zip to export_test/data/raw/wildlife/mule_deer_migration_-_baggs/mule_deer.zip\n",
      "Downloaded data/raw/wildlife/mule_deer_migration_-_platte_valley/mule_deer.geojson to export_test/data/raw/wildlife/mule_deer_migration_-_platte_valley/mule_deer.geojson\n",
      "Downloaded data/raw/wildlife/mule_deer_migration_-_platte_valley/mule_deer.zip to export_test/data/raw/wildlife/mule_deer_migration_-_platte_valley/mule_deer.zip\n",
      "Downloaded data/raw/wildlife/mule_deer_migration_-_sublette/mule_deer.geojson to export_test/data/raw/wildlife/mule_deer_migration_-_sublette/mule_deer.geojson\n",
      "Downloaded data/raw/wildlife/mule_deer_migration_-_sublette/mule_deer.zip to export_test/data/raw/wildlife/mule_deer_migration_-_sublette/mule_deer.zip\n",
      "Downloaded data/raw/wildlife/sage_grouse/connectivity_areas.zip to export_test/data/raw/wildlife/sage_grouse/connectivity_areas.zip\n",
      "Downloaded data/raw/wildlife/sage_grouse/core_and_connectivity_areas.zip to export_test/data/raw/wildlife/sage_grouse/core_and_connectivity_areas.zip\n",
      "Downloaded data/raw/wildlife/sage_grouse/core_area.zip to export_test/data/raw/wildlife/sage_grouse/core_area.zip\n",
      "Downloaded data/raw/wildlife/sage_grouse/plss_sections_with_occupied_leks.zip to export_test/data/raw/wildlife/sage_grouse/plss_sections_with_occupied_leks.zip\n",
      "Downloaded data/raw/wildlife/sage_grouse/winter_concentration_areas.zip to export_test/data/raw/wildlife/sage_grouse/winter_concentration_areas.zip\n"
     ]
    }
   ],
   "source": [
    "DataDownloaderUploader().download_and_upload_main()\n",
    "Processor().process_raw_datasets()\n",
    "DataDocumenter().document_processed_data()\n",
    "s3Exporter().export_all(\"export_test\")"
   ]
  },
  {
   "cell_type": "code",
   "execution_count": 7,
   "metadata": {},
   "outputs": [
    {
     "name": "stdout",
     "output_type": "stream",
     "text": [
      "Downloaded data/processed/crucial_critical/crucial_range/antelope.geojson to export_test/data/processed/crucial_critical/crucial_range/antelope.geojson\n",
      "Downloaded data/processed/crucial_critical/crucial_range/bighorn_sheep.geojson to export_test/data/processed/crucial_critical/crucial_range/bighorn_sheep.geojson\n",
      "Downloaded data/processed/crucial_critical/crucial_range/elk.geojson to export_test/data/processed/crucial_critical/crucial_range/elk.geojson\n",
      "Downloaded data/processed/crucial_critical/crucial_range/moose.geojson to export_test/data/processed/crucial_critical/crucial_range/moose.geojson\n",
      "Downloaded data/processed/crucial_critical/crucial_range/mule_deer.geojson to export_test/data/processed/crucial_critical/crucial_range/mule_deer.geojson\n",
      "Downloaded data/processed/crucial_critical/crucial_range/rocky_mountain_goat.geojson to export_test/data/processed/crucial_critical/crucial_range/rocky_mountain_goat.geojson\n",
      "Downloaded data/processed/crucial_critical/crucial_range/rocy_mountain_goat.geojson to export_test/data/processed/crucial_critical/crucial_range/rocy_mountain_goat.geojson\n",
      "Downloaded data/processed/crucial_critical/crucial_range/whitetailed_deer.geojson to export_test/data/processed/crucial_critical/crucial_range/whitetailed_deer.geojson\n",
      "Downloaded data/processed/crucial_critical/usfws_critical_habitat/canada_lynx.geojson to export_test/data/processed/crucial_critical/usfws_critical_habitat/canada_lynx.geojson\n",
      "Downloaded data/processed/crucial_critical/usfws_critical_habitat/critical_habitat_fearures_and_polygons.geojson to export_test/data/processed/crucial_critical/usfws_critical_habitat/critical_habitat_fearures_and_polygons.geojson\n",
      "Downloaded data/processed/crucial_critical/usfws_critical_habitat/desert_yellowhead.geojson to export_test/data/processed/crucial_critical/usfws_critical_habitat/desert_yellowhead.geojson\n",
      "Downloaded data/processed/crucial_critical/usfws_critical_habitat/yellowbilled_cuckoo.geojson to export_test/data/processed/crucial_critical/usfws_critical_habitat/yellowbilled_cuckoo.geojson\n",
      "Downloaded data/processed/crucial_critical/wgfd_aquatic/aquatic_crucial_habitat_priorities.geojson to export_test/data/processed/crucial_critical/wgfd_aquatic/aquatic_crucial_habitat_priorities.geojson\n",
      "Downloaded data/processed/crucial_critical/wgfd_terrestrial/terrestrial_crucial_habitat_priorities.geojson to export_test/data/processed/crucial_critical/wgfd_terrestrial/terrestrial_crucial_habitat_priorities.geojson\n",
      "Downloaded data/processed/habitat/usfws_area_of_influence/blowout_penstemon.geojson to export_test/data/processed/habitat/usfws_area_of_influence/blowout_penstemon.geojson\n",
      "Downloaded data/processed/habitat/usfws_area_of_influence/canada_lynx.geojson to export_test/data/processed/habitat/usfws_area_of_influence/canada_lynx.geojson\n",
      "Downloaded data/processed/habitat/usfws_area_of_influence/desert_yellowhead.geojson to export_test/data/processed/habitat/usfws_area_of_influence/desert_yellowhead.geojson\n",
      "Downloaded data/processed/habitat/usfws_area_of_influence/kendall_warm_spring_dace.geojson to export_test/data/processed/habitat/usfws_area_of_influence/kendall_warm_spring_dace.geojson\n",
      "Downloaded data/processed/habitat/usfws_area_of_influence/north_american_wolverine.geojson to export_test/data/processed/habitat/usfws_area_of_influence/north_american_wolverine.geojson\n",
      "Downloaded data/processed/habitat/usfws_area_of_influence/northern_long-eared_bat.geojson to export_test/data/processed/habitat/usfws_area_of_influence/northern_long-eared_bat.geojson\n",
      "Downloaded data/processed/habitat/usfws_area_of_influence/ute_ladies'-tresses.geojson to export_test/data/processed/habitat/usfws_area_of_influence/ute_ladies'-tresses.geojson\n",
      "Downloaded data/processed/habitat/usfws_area_of_influence/whitebark_pine.geojson to export_test/data/processed/habitat/usfws_area_of_influence/whitebark_pine.geojson\n",
      "Downloaded data/processed/habitat/usfws_area_of_influence/wyoming_toad.geojson to export_test/data/processed/habitat/usfws_area_of_influence/wyoming_toad.geojson\n",
      "Downloaded data/processed/habitat/usfws_area_of_influence/yellow_billed_cuckoo.geojson to export_test/data/processed/habitat/usfws_area_of_influence/yellow_billed_cuckoo.geojson\n",
      "Downloaded data/processed/habitat/wgfd_aquatic/aquatic_connectivity_habitat_priorities.geojson to export_test/data/processed/habitat/wgfd_aquatic/aquatic_connectivity_habitat_priorities.geojson\n",
      "Downloaded data/processed/habitat/wgfd_aquatic/aquatic_restoration_habitat_priorities.geojson to export_test/data/processed/habitat/wgfd_aquatic/aquatic_restoration_habitat_priorities.geojson\n",
      "Downloaded data/processed/habitat/wgfd_terrestrial/terrestrial_connectivity_habitat_priorities.geojson to export_test/data/processed/habitat/wgfd_terrestrial/terrestrial_connectivity_habitat_priorities.geojson\n",
      "Downloaded data/processed/habitat/wgfd_terrestrial/terrestrial_restoration_habitat_priorities.geojson to export_test/data/processed/habitat/wgfd_terrestrial/terrestrial_restoration_habitat_priorities.geojson\n",
      "Downloaded data/processed/recreation/aquatic/sport_fish_designations.geojson to export_test/data/processed/recreation/aquatic/sport_fish_designations.geojson\n",
      "Downloaded data/processed/recreation/big_game_hunt_areas/antelope.geojson to export_test/data/processed/recreation/big_game_hunt_areas/antelope.geojson\n",
      "Downloaded data/processed/recreation/big_game_hunt_areas/bighord_sheep.geojson to export_test/data/processed/recreation/big_game_hunt_areas/bighord_sheep.geojson\n",
      "Downloaded data/processed/recreation/big_game_hunt_areas/bison.geojson to export_test/data/processed/recreation/big_game_hunt_areas/bison.geojson\n",
      "Downloaded data/processed/recreation/big_game_hunt_areas/black_bear.geojson to export_test/data/processed/recreation/big_game_hunt_areas/black_bear.geojson\n",
      "Downloaded data/processed/recreation/big_game_hunt_areas/deer.geojson to export_test/data/processed/recreation/big_game_hunt_areas/deer.geojson\n",
      "Downloaded data/processed/recreation/big_game_hunt_areas/elk.geojson to export_test/data/processed/recreation/big_game_hunt_areas/elk.geojson\n",
      "Downloaded data/processed/recreation/big_game_hunt_areas/grizzly_bear.geojson to export_test/data/processed/recreation/big_game_hunt_areas/grizzly_bear.geojson\n",
      "Downloaded data/processed/recreation/big_game_hunt_areas/mountain_lion.geojson to export_test/data/processed/recreation/big_game_hunt_areas/mountain_lion.geojson\n",
      "Downloaded data/processed/recreation/big_game_hunt_areas/rocky_mountain_goat.geojson to export_test/data/processed/recreation/big_game_hunt_areas/rocky_mountain_goat.geojson\n",
      "Downloaded data/processed/recreation/big_game_hunt_areas/wolf.geojson to export_test/data/processed/recreation/big_game_hunt_areas/wolf.geojson\n",
      "Downloaded data/processed/wildlife/aquatic/crucial_stream_corridors.geojson to export_test/data/processed/wildlife/aquatic/crucial_stream_corridors.geojson\n",
      "Downloaded data/processed/wildlife/aquatic_/crucial_stream_corridors.geojson to export_test/data/processed/wildlife/aquatic_/crucial_stream_corridors.geojson\n",
      "Downloaded data/processed/wildlife/big_game_herd_units/antelope.geojson to export_test/data/processed/wildlife/big_game_herd_units/antelope.geojson\n",
      "Downloaded data/processed/wildlife/big_game_herd_units/bighorn_sheep.geojson to export_test/data/processed/wildlife/big_game_herd_units/bighorn_sheep.geojson\n",
      "Downloaded data/processed/wildlife/big_game_herd_units/bison.geojson to export_test/data/processed/wildlife/big_game_herd_units/bison.geojson\n",
      "Downloaded data/processed/wildlife/big_game_herd_units/elk.geojson to export_test/data/processed/wildlife/big_game_herd_units/elk.geojson\n",
      "Downloaded data/processed/wildlife/big_game_herd_units/mule_deer.geojson to export_test/data/processed/wildlife/big_game_herd_units/mule_deer.geojson\n",
      "Downloaded data/processed/wildlife/big_game_herd_units/rocky_mountain_goat.geojson to export_test/data/processed/wildlife/big_game_herd_units/rocky_mountain_goat.geojson\n",
      "Downloaded data/processed/wildlife/big_game_herd_units/whitetailed_deer.geojson to export_test/data/processed/wildlife/big_game_herd_units/whitetailed_deer.geojson\n",
      "Downloaded data/processed/wildlife/mule_deer_migration_-_baggs/mule_deer.geojson to export_test/data/processed/wildlife/mule_deer_migration_-_baggs/mule_deer.geojson\n",
      "Downloaded data/processed/wildlife/mule_deer_migration_-_platte_valley/mule_deer.geojson to export_test/data/processed/wildlife/mule_deer_migration_-_platte_valley/mule_deer.geojson\n",
      "Downloaded data/processed/wildlife/mule_deer_migration_-_sublette/mule_deer.geojson to export_test/data/processed/wildlife/mule_deer_migration_-_sublette/mule_deer.geojson\n",
      "Downloaded data/processed/wildlife/sage_grouse/core_and_connectivity_areas.geojson to export_test/data/processed/wildlife/sage_grouse/core_and_connectivity_areas.geojson\n",
      "Downloaded data/processed/wildlife/sage_grouse/plss_sections_with_occupied_leks.geojson to export_test/data/processed/wildlife/sage_grouse/plss_sections_with_occupied_leks.geojson\n",
      "Downloaded data/processed/wildlife/sage_grouse/winter_concentration_areas.geojson to export_test/data/processed/wildlife/sage_grouse/winter_concentration_areas.geojson\n",
      "Downloaded data/raw/crucial_critical/crucial_range/antelope.geojson to export_test/data/raw/crucial_critical/crucial_range/antelope.geojson\n",
      "Downloaded data/raw/crucial_critical/crucial_range/bighorn_sheep.geojson to export_test/data/raw/crucial_critical/crucial_range/bighorn_sheep.geojson\n",
      "Downloaded data/raw/crucial_critical/crucial_range/elk.geojson to export_test/data/raw/crucial_critical/crucial_range/elk.geojson\n",
      "Downloaded data/raw/crucial_critical/crucial_range/moose.geojson to export_test/data/raw/crucial_critical/crucial_range/moose.geojson\n",
      "Downloaded data/raw/crucial_critical/crucial_range/mule_deer.geojson to export_test/data/raw/crucial_critical/crucial_range/mule_deer.geojson\n",
      "Downloaded data/raw/crucial_critical/crucial_range/rocky_mountain_goat.geojson to export_test/data/raw/crucial_critical/crucial_range/rocky_mountain_goat.geojson\n",
      "Downloaded data/raw/crucial_critical/crucial_range/rocy_mountain_goat.geojson to export_test/data/raw/crucial_critical/crucial_range/rocy_mountain_goat.geojson\n",
      "Downloaded data/raw/crucial_critical/crucial_range/whitetailed_deer.geojson to export_test/data/raw/crucial_critical/crucial_range/whitetailed_deer.geojson\n",
      "Downloaded data/raw/crucial_critical/usfws_critical_habitat/canada_lynx.zip to export_test/data/raw/crucial_critical/usfws_critical_habitat/canada_lynx.zip\n",
      "Downloaded data/raw/crucial_critical/usfws_critical_habitat/critical_habitat_fearures_and_polygons.zip to export_test/data/raw/crucial_critical/usfws_critical_habitat/critical_habitat_fearures_and_polygons.zip\n",
      "Downloaded data/raw/crucial_critical/usfws_critical_habitat/desert_yellowhead.zip to export_test/data/raw/crucial_critical/usfws_critical_habitat/desert_yellowhead.zip\n",
      "Downloaded data/raw/crucial_critical/usfws_critical_habitat/yellowbilled_cuckoo.zip to export_test/data/raw/crucial_critical/usfws_critical_habitat/yellowbilled_cuckoo.zip\n",
      "Downloaded data/raw/crucial_critical/wgfd_aquatic/aquatic_crucial_habitat_priorities.geojson to export_test/data/raw/crucial_critical/wgfd_aquatic/aquatic_crucial_habitat_priorities.geojson\n",
      "Downloaded data/raw/crucial_critical/wgfd_terrestrial/terrestrial_crucial_habitat_priorities.geojson to export_test/data/raw/crucial_critical/wgfd_terrestrial/terrestrial_crucial_habitat_priorities.geojson\n",
      "Downloaded data/raw/habitat/usfws_area_of_influence/blackfooted_ferret.zip to export_test/data/raw/habitat/usfws_area_of_influence/blackfooted_ferret.zip\n",
      "Downloaded data/raw/habitat/usfws_area_of_influence/blowout_penstemon.zip to export_test/data/raw/habitat/usfws_area_of_influence/blowout_penstemon.zip\n",
      "Downloaded data/raw/habitat/usfws_area_of_influence/canada_lynx.zip to export_test/data/raw/habitat/usfws_area_of_influence/canada_lynx.zip\n",
      "Downloaded data/raw/habitat/usfws_area_of_influence/desert_yellowhead.zip to export_test/data/raw/habitat/usfws_area_of_influence/desert_yellowhead.zip\n",
      "Downloaded data/raw/habitat/usfws_area_of_influence/kendall_warm_spring_dace.zip to export_test/data/raw/habitat/usfws_area_of_influence/kendall_warm_spring_dace.zip\n",
      "Downloaded data/raw/habitat/usfws_area_of_influence/north_american_wolverine.zip to export_test/data/raw/habitat/usfws_area_of_influence/north_american_wolverine.zip\n",
      "Downloaded data/raw/habitat/usfws_area_of_influence/northern_long-eared_bat.zip to export_test/data/raw/habitat/usfws_area_of_influence/northern_long-eared_bat.zip\n",
      "Downloaded data/raw/habitat/usfws_area_of_influence/ute_ladies'-tresses.zip to export_test/data/raw/habitat/usfws_area_of_influence/ute_ladies'-tresses.zip\n",
      "Downloaded data/raw/habitat/usfws_area_of_influence/whitebark_pine.zip to export_test/data/raw/habitat/usfws_area_of_influence/whitebark_pine.zip\n",
      "Downloaded data/raw/habitat/usfws_area_of_influence/wyoming_toad.zip to export_test/data/raw/habitat/usfws_area_of_influence/wyoming_toad.zip\n",
      "Downloaded data/raw/habitat/usfws_area_of_influence/yellow_billed_cuckoo.zip to export_test/data/raw/habitat/usfws_area_of_influence/yellow_billed_cuckoo.zip\n",
      "Downloaded data/raw/habitat/wgfd_aquatic/aquatic_connectivity_habitat_priorities.geojson to export_test/data/raw/habitat/wgfd_aquatic/aquatic_connectivity_habitat_priorities.geojson\n",
      "Downloaded data/raw/habitat/wgfd_aquatic/aquatic_restoration_habitat_priorities.geojson to export_test/data/raw/habitat/wgfd_aquatic/aquatic_restoration_habitat_priorities.geojson\n",
      "Downloaded data/raw/habitat/wgfd_terrestrial/terrestrial_connectivity_habitat_priorities.geojson to export_test/data/raw/habitat/wgfd_terrestrial/terrestrial_connectivity_habitat_priorities.geojson\n",
      "Downloaded data/raw/habitat/wgfd_terrestrial/terrestrial_restoration_habitat_priorities.geojson to export_test/data/raw/habitat/wgfd_terrestrial/terrestrial_restoration_habitat_priorities.geojson\n",
      "Downloaded data/raw/recreation/aquatic/sport_fish_designations.geojson to export_test/data/raw/recreation/aquatic/sport_fish_designations.geojson\n",
      "Downloaded data/raw/recreation/big_game_hunt_areas/antelope.geojson to export_test/data/raw/recreation/big_game_hunt_areas/antelope.geojson\n",
      "Downloaded data/raw/recreation/big_game_hunt_areas/bighord_sheep.geojson to export_test/data/raw/recreation/big_game_hunt_areas/bighord_sheep.geojson\n",
      "Downloaded data/raw/recreation/big_game_hunt_areas/bison.geojson to export_test/data/raw/recreation/big_game_hunt_areas/bison.geojson\n",
      "Downloaded data/raw/recreation/big_game_hunt_areas/black_bear.geojson to export_test/data/raw/recreation/big_game_hunt_areas/black_bear.geojson\n",
      "Downloaded data/raw/recreation/big_game_hunt_areas/deer.geojson to export_test/data/raw/recreation/big_game_hunt_areas/deer.geojson\n",
      "Downloaded data/raw/recreation/big_game_hunt_areas/elk.geojson to export_test/data/raw/recreation/big_game_hunt_areas/elk.geojson\n",
      "Downloaded data/raw/recreation/big_game_hunt_areas/grizzly_bear.geojson to export_test/data/raw/recreation/big_game_hunt_areas/grizzly_bear.geojson\n",
      "Downloaded data/raw/recreation/big_game_hunt_areas/mountain_lion.geojson to export_test/data/raw/recreation/big_game_hunt_areas/mountain_lion.geojson\n",
      "Downloaded data/raw/recreation/big_game_hunt_areas/rocky_mountain_goat.geojson to export_test/data/raw/recreation/big_game_hunt_areas/rocky_mountain_goat.geojson\n",
      "Downloaded data/raw/recreation/big_game_hunt_areas/wolf.geojson to export_test/data/raw/recreation/big_game_hunt_areas/wolf.geojson\n",
      "Downloaded data/raw/wildlife/aquatic/crucial_stream_corridors.geojson to export_test/data/raw/wildlife/aquatic/crucial_stream_corridors.geojson\n",
      "Downloaded data/raw/wildlife/aquatic_/crucial_stream_corridors.geojson to export_test/data/raw/wildlife/aquatic_/crucial_stream_corridors.geojson\n",
      "Downloaded data/raw/wildlife/big_game_herd_units/antelope.geojson to export_test/data/raw/wildlife/big_game_herd_units/antelope.geojson\n",
      "Downloaded data/raw/wildlife/big_game_herd_units/bighorn_sheep.geojson to export_test/data/raw/wildlife/big_game_herd_units/bighorn_sheep.geojson\n",
      "Downloaded data/raw/wildlife/big_game_herd_units/bison.geojson to export_test/data/raw/wildlife/big_game_herd_units/bison.geojson\n",
      "Downloaded data/raw/wildlife/big_game_herd_units/elk.geojson to export_test/data/raw/wildlife/big_game_herd_units/elk.geojson\n",
      "Downloaded data/raw/wildlife/big_game_herd_units/mule_deer.geojson to export_test/data/raw/wildlife/big_game_herd_units/mule_deer.geojson\n",
      "Downloaded data/raw/wildlife/big_game_herd_units/rocky_mountain_goat.geojson to export_test/data/raw/wildlife/big_game_herd_units/rocky_mountain_goat.geojson\n",
      "Downloaded data/raw/wildlife/big_game_herd_units/whitetailed_deer.geojson to export_test/data/raw/wildlife/big_game_herd_units/whitetailed_deer.geojson\n",
      "Downloaded data/raw/wildlife/mule_deer_migration_-_baggs/mule_deer.zip to export_test/data/raw/wildlife/mule_deer_migration_-_baggs/mule_deer.zip\n",
      "Downloaded data/raw/wildlife/mule_deer_migration_-_platte_valley/mule_deer.zip to export_test/data/raw/wildlife/mule_deer_migration_-_platte_valley/mule_deer.zip\n",
      "Downloaded data/raw/wildlife/mule_deer_migration_-_sublette/mule_deer.zip to export_test/data/raw/wildlife/mule_deer_migration_-_sublette/mule_deer.zip\n",
      "Downloaded data/raw/wildlife/sage_grouse/core_and_connectivity_areas.zip to export_test/data/raw/wildlife/sage_grouse/core_and_connectivity_areas.zip\n",
      "Downloaded data/raw/wildlife/sage_grouse/plss_sections_with_occupied_leks.zip to export_test/data/raw/wildlife/sage_grouse/plss_sections_with_occupied_leks.zip\n",
      "Downloaded data/raw/wildlife/sage_grouse/winter_concentration_areas.zip to export_test/data/raw/wildlife/sage_grouse/winter_concentration_areas.zip\n"
     ]
    }
   ],
   "source": [
    "s3Exporter().export_all(\"export_test\")"
   ]
  },
  {
   "cell_type": "code",
   "execution_count": 3,
   "metadata": {},
   "outputs": [
    {
     "data": {
      "text/plain": [
       "''"
      ]
     },
     "execution_count": 3,
     "metadata": {},
     "output_type": "execute_result"
    }
   ],
   "source": [
    "from fpdf import FPDF\n",
    "\n",
    "# Create instance of FPDF class\n",
    "pdf = FPDF()\n",
    "\n",
    "# Add a page\n",
    "pdf.add_page()\n",
    "\n",
    "# Set font\n",
    "pdf.set_font(\"Arial\", size=12)\n",
    "\n",
    "# Add a cell\n",
    "pdf.cell(200, 10, txt=\"Welcome to PyFPDF!\", ln=True, align='R')\n",
    "\n",
    "# Save the PDF to a file\n",
    "pdf.output(\"simple_demo.pdf\")"
   ]
  },
  {
   "cell_type": "code",
   "execution_count": null,
   "metadata": {},
   "outputs": [],
   "source": []
  }
 ],
 "metadata": {
  "kernelspec": {
   "display_name": "nwf-process-geodata-YVXeQpfw-py3.9",
   "language": "python",
   "name": "python3"
  },
  "language_info": {
   "codemirror_mode": {
    "name": "ipython",
    "version": 3
   },
   "file_extension": ".py",
   "mimetype": "text/x-python",
   "name": "python",
   "nbconvert_exporter": "python",
   "pygments_lexer": "ipython3",
   "version": "3.9.12"
  }
 },
 "nbformat": 4,
 "nbformat_minor": 2
}
