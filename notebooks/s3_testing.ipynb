{
 "cells": [
  {
   "cell_type": "code",
   "execution_count": 5,
   "metadata": {},
   "outputs": [],
   "source": [
    "import boto3\n",
    "import requests\n",
    "import os\n",
    "import geopandas as gpd\n",
    "import io\n",
    "import json\n",
    "# set this to your own directory\n",
    "os.chdir(\"/Users/canyonfoot/Documents/python_proj/nwf-process-geodata\")"
   ]
  },
  {
   "cell_type": "code",
   "execution_count": 6,
   "metadata": {},
   "outputs": [
    {
     "data": {
      "text/plain": [
       "'1.34.80'"
      ]
     },
     "execution_count": 6,
     "metadata": {},
     "output_type": "execute_result"
    }
   ],
   "source": [
    "boto3.__version__"
   ]
  },
  {
   "cell_type": "markdown",
   "metadata": {},
   "source": [
    "You will need to copy your secrets AWS credentials into a json file `secrets/aws_secrets` structured like this:\n",
    "\n",
    "{\n",
    "    \"Version\": 1,\n",
    "    \"AccessKeyId\": [ACCESS_KEY],\n",
    "    \"SecretAccessKey\": [SECRET_KEY],\n",
    "    \"Region\": \"us-east-1\"\n",
    "}\n",
    "\n",
    "Be careful to not share these - the folder is gitignored and you should never push any notebook in which the key values are printed out."
   ]
  },
  {
   "cell_type": "code",
   "execution_count": 7,
   "metadata": {},
   "outputs": [],
   "source": [
    "secrets_path = 'secrets/aws_secrets.json'\n",
    "\n",
    "with open(secrets_path, 'r') as file:\n",
    "    aws_creds = json.load(file)"
   ]
  },
  {
   "cell_type": "markdown",
   "metadata": {},
   "source": [
    "Once your secrets have been copied down you can open a session with the code below:"
   ]
  },
  {
   "cell_type": "code",
   "execution_count": 8,
   "metadata": {},
   "outputs": [],
   "source": [
    "import boto3 \n",
    "session = boto3.Session(\n",
    "    aws_access_key_id=aws_creds[\"AccessKeyId\"],\n",
    "    aws_secret_access_key=aws_creds[\"SecretAccessKey\"],\n",
    "    region_name=aws_creds[\"Region\"]\n",
    ")"
   ]
  },
  {
   "cell_type": "code",
   "execution_count": 9,
   "metadata": {},
   "outputs": [
    {
     "name": "stdout",
     "output_type": "stream",
     "text": [
      "data/processed/crucial_critical/crucial_range/antelope.geojson\n",
      "data/processed/crucial_critical/crucial_range/bighorn_sheep.geojson\n",
      "data/processed/crucial_critical/crucial_range/elk.geojson\n",
      "data/processed/crucial_critical/crucial_range/moose.geojson\n",
      "data/processed/crucial_critical/crucial_range/mule_deer.geojson\n",
      "data/processed/crucial_critical/crucial_range/rocy_mountain_goat.geojson\n",
      "data/processed/crucial_critical/crucial_range/whitetailed_deer.geojson\n",
      "data/processed/crucial_critical/usfws_critical_habitat/canada_lynx.geojson\n",
      "data/processed/crucial_critical/usfws_critical_habitat/critical_habitat_fearures_and_polygons.geojson\n",
      "data/processed/crucial_critical/usfws_critical_habitat/desert_yellowhead.geojson\n",
      "data/processed/crucial_critical/usfws_critical_habitat/yellowbilled_cuckoo.geojson\n",
      "data/processed/recreation/aquatic/sport_fish_designations.geojson\n",
      "data/processed/wildlife/aquatic/crucial_stream_corridors.geojson\n",
      "data/raw/crucial_critical/crucial_range/antelope.geojson\n",
      "data/raw/crucial_critical/crucial_range/bighorn_sheep.geojson\n",
      "data/raw/crucial_critical/crucial_range/elk.geojson\n",
      "data/raw/crucial_critical/crucial_range/moose.geojson\n",
      "data/raw/crucial_critical/crucial_range/mule_deer.geojson\n",
      "data/raw/crucial_critical/crucial_range/rocy_mountain_goat.geojson\n",
      "data/raw/crucial_critical/crucial_range/whitetailed_deer.geojson\n",
      "data/raw/crucial_critical/usfws_critical_habitat/canada_lynx.zip\n",
      "data/raw/crucial_critical/usfws_critical_habitat/critical_habitat_fearures_and_polygons.zip\n",
      "data/raw/crucial_critical/usfws_critical_habitat/desert_yellowhead.zip\n",
      "data/raw/crucial_critical/usfws_critical_habitat/yellowbilled_cuckoo.zip\n",
      "data/raw/recreation/aquatic/sport_fish_designations.geojson\n",
      "data/raw/wildlife/aquatic/crucial_stream_corridors.geojson\n"
     ]
    }
   ],
   "source": [
    "s3 = session.client('s3')\n",
    "response = s3.list_objects_v2(Bucket='dataclinic-nwf')\n",
    "\n",
    "# Print the bucket contents \n",
    "for item in response.get('Contents', []):\n",
    "    print(item['Key'])"
   ]
  },
  {
   "cell_type": "markdown",
   "metadata": {},
   "source": [
    "We can download and read this test file:"
   ]
  },
  {
   "cell_type": "code",
   "execution_count": 11,
   "metadata": {},
   "outputs": [],
   "source": [
    "# Download a file from bucket\n",
    "local_path = 'data/test/test.txt'\n",
    "s3.download_file(Bucket='dataclinic-nwf', Key='test.txt', Filename=local_path)\n",
    "\n",
    "with open(local_path, 'r') as file:\n",
    "    test = file.read()"
   ]
  },
  {
   "cell_type": "code",
   "execution_count": 18,
   "metadata": {},
   "outputs": [
    {
     "data": {
      "text/plain": [
       "'this is a test\\n'"
      ]
     },
     "execution_count": 18,
     "metadata": {},
     "output_type": "execute_result"
    }
   ],
   "source": [
    "test"
   ]
  },
  {
   "cell_type": "markdown",
   "metadata": {},
   "source": [
    "To upload a file, we first download it locally."
   ]
  },
  {
   "cell_type": "code",
   "execution_count": 19,
   "metadata": {},
   "outputs": [],
   "source": [
    "antelope_crucial_range_url = \"https://services6.arcgis.com/cWzdqIyxbijuhPLw/arcgis/rest/services/Antelope_Crucial_Range/FeatureServer/0/query?outFields=*&where=1%3D1&f=geojson\"\n",
    "local_file_path = \"data/test/antelope_test.zip\"\n",
    "\n",
    "response = requests.get(antelope_crucial_range_url)\n",
    "response.raise_for_status()  # Check if the download was successful\n",
    "\n",
    "# Save the file\n",
    "with open(local_file_path, 'wb') as file:\n",
    "    file.write(response.content)"
   ]
  },
  {
   "cell_type": "markdown",
   "metadata": {},
   "source": [
    "Then use the `upload_file` function to put it on the bucket."
   ]
  },
  {
   "cell_type": "code",
   "execution_count": 20,
   "metadata": {},
   "outputs": [],
   "source": [
    "s3.upload_file(local_file_path, 'dataclinic-nwf', 'antelope_test.zip')"
   ]
  },
  {
   "cell_type": "code",
   "execution_count": 21,
   "metadata": {},
   "outputs": [
    {
     "name": "stdout",
     "output_type": "stream",
     "text": [
      "antelope_test.zip\n",
      "test.txt\n"
     ]
    }
   ],
   "source": [
    "response = s3.list_objects_v2(Bucket='dataclinic-nwf')\n",
    "for item in response.get('Contents', []):\n",
    "    print(item['Key'])"
   ]
  },
  {
   "cell_type": "markdown",
   "metadata": {},
   "source": [
    "It is possible to read the file directly off s3 without first downloading it to a local location:"
   ]
  },
  {
   "cell_type": "code",
   "execution_count": 22,
   "metadata": {},
   "outputs": [],
   "source": [
    "obj = s3.get_object(Bucket='dataclinic-nwf', Key='antelope_test.zip')\n",
    "antelope_gdf = gpd.read_file(io.BytesIO(obj['Body'].read()))"
   ]
  },
  {
   "cell_type": "markdown",
   "metadata": {},
   "source": [
    "And here we have the resulting geodataframe:"
   ]
  },
  {
   "cell_type": "code",
   "execution_count": 23,
   "metadata": {},
   "outputs": [
    {
     "data": {
      "text/html": [
       "<div>\n",
       "<style scoped>\n",
       "    .dataframe tbody tr th:only-of-type {\n",
       "        vertical-align: middle;\n",
       "    }\n",
       "\n",
       "    .dataframe tbody tr th {\n",
       "        vertical-align: top;\n",
       "    }\n",
       "\n",
       "    .dataframe thead th {\n",
       "        text-align: right;\n",
       "    }\n",
       "</style>\n",
       "<table border=\"1\" class=\"dataframe\">\n",
       "  <thead>\n",
       "    <tr style=\"text-align: right;\">\n",
       "      <th></th>\n",
       "      <th>OBJECTID</th>\n",
       "      <th>RANGE</th>\n",
       "      <th>Acres</th>\n",
       "      <th>SQMiles</th>\n",
       "      <th>Shape__Area</th>\n",
       "      <th>Shape__Length</th>\n",
       "      <th>geometry</th>\n",
       "    </tr>\n",
       "  </thead>\n",
       "  <tbody>\n",
       "    <tr>\n",
       "      <th>0</th>\n",
       "      <td>1</td>\n",
       "      <td>CRUWYL</td>\n",
       "      <td>11261.419794</td>\n",
       "      <td>17.59597</td>\n",
       "      <td>8.353306e+07</td>\n",
       "      <td>39316.666344</td>\n",
       "      <td>POLYGON ((-109.89950 42.34655, -109.89910 42.3...</td>\n",
       "    </tr>\n",
       "    <tr>\n",
       "      <th>1</th>\n",
       "      <td>2</td>\n",
       "      <td>CRUWYL</td>\n",
       "      <td>14366.448949</td>\n",
       "      <td>22.44758</td>\n",
       "      <td>1.070283e+08</td>\n",
       "      <td>45012.866997</td>\n",
       "      <td>POLYGON ((-109.27518 42.50486, -109.27519 42.5...</td>\n",
       "    </tr>\n",
       "    <tr>\n",
       "      <th>2</th>\n",
       "      <td>3</td>\n",
       "      <td>CRUWYL</td>\n",
       "      <td>6924.096849</td>\n",
       "      <td>10.81890</td>\n",
       "      <td>5.108573e+07</td>\n",
       "      <td>27157.527495</td>\n",
       "      <td>POLYGON ((-109.09361 42.18409, -109.09328 42.1...</td>\n",
       "    </tr>\n",
       "    <tr>\n",
       "      <th>3</th>\n",
       "      <td>4</td>\n",
       "      <td>CRUWYL</td>\n",
       "      <td>57819.340834</td>\n",
       "      <td>90.34272</td>\n",
       "      <td>4.233936e+08</td>\n",
       "      <td>106647.697716</td>\n",
       "      <td>POLYGON ((-108.73918 42.03526, -108.73900 42.0...</td>\n",
       "    </tr>\n",
       "    <tr>\n",
       "      <th>4</th>\n",
       "      <td>5</td>\n",
       "      <td>CRUWYL</td>\n",
       "      <td>11590.273371</td>\n",
       "      <td>18.10980</td>\n",
       "      <td>8.659090e+07</td>\n",
       "      <td>37628.951961</td>\n",
       "      <td>POLYGON ((-110.21522 42.57484, -110.21509 42.5...</td>\n",
       "    </tr>\n",
       "  </tbody>\n",
       "</table>\n",
       "</div>"
      ],
      "text/plain": [
       "   OBJECTID   RANGE         Acres   SQMiles   Shape__Area  Shape__Length  \\\n",
       "0         1  CRUWYL  11261.419794  17.59597  8.353306e+07   39316.666344   \n",
       "1         2  CRUWYL  14366.448949  22.44758  1.070283e+08   45012.866997   \n",
       "2         3  CRUWYL   6924.096849  10.81890  5.108573e+07   27157.527495   \n",
       "3         4  CRUWYL  57819.340834  90.34272  4.233936e+08  106647.697716   \n",
       "4         5  CRUWYL  11590.273371  18.10980  8.659090e+07   37628.951961   \n",
       "\n",
       "                                            geometry  \n",
       "0  POLYGON ((-109.89950 42.34655, -109.89910 42.3...  \n",
       "1  POLYGON ((-109.27518 42.50486, -109.27519 42.5...  \n",
       "2  POLYGON ((-109.09361 42.18409, -109.09328 42.1...  \n",
       "3  POLYGON ((-108.73918 42.03526, -108.73900 42.0...  \n",
       "4  POLYGON ((-110.21522 42.57484, -110.21509 42.5...  "
      ]
     },
     "execution_count": 23,
     "metadata": {},
     "output_type": "execute_result"
    }
   ],
   "source": [
    "antelope_gdf.head()"
   ]
  },
  {
   "cell_type": "code",
   "execution_count": 24,
   "metadata": {},
   "outputs": [
    {
     "data": {
      "text/plain": [
       "<Axes: >"
      ]
     },
     "execution_count": 24,
     "metadata": {},
     "output_type": "execute_result"
    },
    {
     "data": {
      "image/png": "[encoded data removed]",
      "text/plain": [
       "<Figure size 640x480 with 1 Axes>"
      ]
     },
     "metadata": {},
     "output_type": "display_data"
    }
   ],
   "source": [
    "antelope_gdf.plot()"
   ]
  },
  {
   "cell_type": "code",
   "execution_count": 25,
   "metadata": {},
   "outputs": [
    {
     "data": {
      "text/plain": [
       "<Geographic 2D CRS: EPSG:4326>\n",
       "Name: WGS 84\n",
       "Axis Info [ellipsoidal]:\n",
       "- Lat[north]: Geodetic latitude (degree)\n",
       "- Lon[east]: Geodetic longitude (degree)\n",
       "Area of Use:\n",
       "- undefined\n",
       "Datum: World Geodetic System 1984\n",
       "- Ellipsoid: WGS 84\n",
       "- Prime Meridian: Greenwich"
      ]
     },
     "execution_count": 25,
     "metadata": {},
     "output_type": "execute_result"
    }
   ],
   "source": [
    "antelope_gdf.crs"
   ]
  },
  {
   "cell_type": "markdown",
   "metadata": {},
   "source": [
    "We can delete the file like this:"
   ]
  },
  {
   "cell_type": "code",
   "execution_count": 26,
   "metadata": {},
   "outputs": [
    {
     "data": {
      "text/plain": [
       "{'ResponseMetadata': {'RequestId': '2EVDB5BMS0ZNNY1H',\n",
       "  'HostId': 'QIu8Qdn0c+U1DD2KMVFXIzc20akzL3RIeWj02ASXmR/nfCfTUVtXMXKvbE4OTA+SEu18035Wvng=',\n",
       "  'HTTPStatusCode': 204,\n",
       "  'HTTPHeaders': {'x-amz-id-2': 'QIu8Qdn0c+U1DD2KMVFXIzc20akzL3RIeWj02ASXmR/nfCfTUVtXMXKvbE4OTA+SEu18035Wvng=',\n",
       "   'x-amz-request-id': '2EVDB5BMS0ZNNY1H',\n",
       "   'date': 'Tue, 09 Apr 2024 17:54:21 GMT',\n",
       "   'server': 'AmazonS3'},\n",
       "  'RetryAttempts': 0}}"
      ]
     },
     "execution_count": 26,
     "metadata": {},
     "output_type": "execute_result"
    }
   ],
   "source": [
    "s3.delete_object(Bucket='dataclinic-nwf', Key='antelope_test.zip')"
   ]
  },
  {
   "cell_type": "code",
   "execution_count": null,
   "metadata": {},
   "outputs": [],
   "source": []
  }
 ],
 "metadata": {
  "kernelspec": {
   "display_name": ".venv",
   "language": "python",
   "name": "python3"
  },
  "language_info": {
   "codemirror_mode": {
    "name": "ipython",
    "version": 3
   },
   "file_extension": ".py",
   "mimetype": "text/x-python",
   "name": "python",
   "nbconvert_exporter": "python",
   "pygments_lexer": "ipython3",
   "version": "3.9.12"
  }
 },
 "nbformat": 4,
 "nbformat_minor": 2
}
