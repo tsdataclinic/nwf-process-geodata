{
 "cells": [
  {
   "cell_type": "code",
   "execution_count": null,
   "metadata": {},
   "outputs": [],
   "source": [
    "from fpdf import FPDF\n",
    "import pandas as pd\n",
    "import os\n",
    "import geopandas as gpd\n",
    "import matplotlib.pyplot as plt\n",
    "from io import BytesIO\n",
    "\n",
    "def _create_empty_pdf():\n",
    "    pdf = FPDF()\n",
    "    pdf.add_page()\n",
    "\n",
    "    return pdf\n",
    "    \n",
    "def _add_title(pdf, row):\n",
    "    pdf.set_font('helvetica', size=16, style='B')\n",
    "    pdf.cell(200, 10, text=f\"Dataset: {row['data_title'].values[0]}\", new_x=\"LMARGIN\", new_y=\"NEXT\", align='C')\n",
    "\n",
    "    return pdf\n",
    "\n",
    "def _add_metadata_content(pdf, row):\n",
    "    pdf = _add_text_box(pdf, \"Dataset summary\", row.data_summary[0].replace(\"\\n\", \" \"))\n",
    "    pdf = _add_text_box(pdf, \"Dataset publisher\", row.publisher_fullname[0])\n",
    "    pdf = _add_text_box(pdf, \"High level source\", row.source[0])\n",
    "    pdf = _add_text_box(pdf, \"Original format\", row.format[0])\n",
    "    pdf = _add_text_box(pdf, \"Homeage link\",  f\"[{row.homepage[0]}]({row.homepage[0]})\")\n",
    "    pdf = _add_text_box(pdf, \"Data download link\",  f\"[{row.data_link[0]}]({row.data_link[0]})\")\n",
    "    pdf = _add_text_box(pdf, \"Metadata link\",  f\"[{row.metadata_link[0]}]({row.metadata_link[0]})\")\n",
    "    pdf = _add_text_box(pdf, \"Data license/use constraints\", row.use_constraints[0])\n",
    "\n",
    "    return pdf\n",
    "\n",
    "def _add_text_box(pdf, title, text):\n",
    "    pdf.set_font('helvetica', size=12, style = 'B')\n",
    "    pdf.multi_cell(200, 10, text = title,  new_x=\"LMARGIN\", new_y=\"NEXT\", align = 'L')\n",
    "    pdf.set_font('helvetica', size=12)\n",
    "    pdf.multi_cell(200, 10, text = text,  new_x=\"LMARGIN\", new_y=\"NEXT\", align = 'L', markdown=True)\n",
    "\n",
    "    return pdf\n",
    "\n",
    "def _add_data_content(pdf, gdf):\n",
    "    _add_text_box(pdf, title=\"Dataset features\", text = ', '.join(gdf.columns))\n",
    "    _add_text_box(pdf, title=\"Number of rows\", text = str(gdf.shape[0]))\n",
    "\n",
    "    return pdf\n",
    "\n",
    "def _add_map(pdf, gdf):\n",
    "    pdf.set_font('helvetica', size=12, style = 'B')\n",
    "    pdf.multi_cell(200, 10, text = \"Plot of geometry feature\",  new_x=\"LMARGIN\", new_y=\"NEXT\", align = 'L')\n",
    "\n",
    "    plt.figure()  # Create a new figure object\n",
    "    gdf.plot()\n",
    "\n",
    "    img_buf = BytesIO()  # Create image object\n",
    "    plt.savefig(img_buf, dpi=200)  # Save the image\n",
    "\n",
    "    pdf.image(img_buf, w=pdf.epw)  # Make the image full width\n",
    "    img_buf.close()\n",
    "\n",
    "    return pdf\n"
   ]
  },
  {
   "cell_type": "code",
   "execution_count": null,
   "metadata": {},
   "outputs": [],
   "source": [
    "os.chdir(\"/Users/canyonfoot/Documents/python_proj/nwf-process-geodata\")\n",
    "metadata_row = pd.read_csv(\"output_metadata.csv\").head(1)"
   ]
  },
  {
   "cell_type": "code",
   "execution_count": null,
   "metadata": {},
   "outputs": [],
   "source": [
    "str(metadata_row.columns)"
   ]
  },
  {
   "cell_type": "code",
   "execution_count": null,
   "metadata": {},
   "outputs": [],
   "source": [
    "gdf = gpd.read_file(\"/Users/canyonfoot/Documents/python_proj/nwf-process-geodata/export_test/data/processed/wildlife/aquatic/crucial_stream_corridors.geojson\")"
   ]
  },
  {
   "cell_type": "code",
   "execution_count": null,
   "metadata": {},
   "outputs": [],
   "source": [
    "pdf = _create_empty_pdf()\n",
    "pdf = _add_title(pdf, metadata_row)\n",
    "pdf = _add_metadata_content(pdf, metadata_row)\n",
    "pdf = _add_data_content(pdf, gdf)\n",
    "pdf = _add_map(pdf, gdf)"
   ]
  },
  {
   "cell_type": "code",
   "execution_count": null,
   "metadata": {},
   "outputs": [],
   "source": [
    "# Save\n",
    "pdf.output(\"simple_demo.pdf\")"
   ]
  },
  {
   "cell_type": "code",
   "execution_count": null,
   "metadata": {},
   "outputs": [],
   "source": []
  },
  {
   "cell_type": "code",
   "execution_count": null,
   "metadata": {},
   "outputs": [],
   "source": []
  }
 ],
 "metadata": {
  "kernelspec": {
   "display_name": "nwf-process-geodata-YVXeQpfw-py3.9",
   "language": "python",
   "name": "python3"
  },
  "language_info": {
   "codemirror_mode": {
    "name": "ipython",
    "version": 3
   },
   "file_extension": ".py",
   "mimetype": "text/x-python",
   "name": "python",
   "nbconvert_exporter": "python",
   "pygments_lexer": "ipython3",
   "version": "3.9.12"
  }
 },
 "nbformat": 4,
 "nbformat_minor": 2
}
